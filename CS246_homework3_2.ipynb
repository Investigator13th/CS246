{
  "nbformat": 4,
  "nbformat_minor": 0,
  "metadata": {
    "colab": {
      "provenance": [],
      "mount_file_id": "1NUuN1XQWKiFAtRAbwKlmV8FXJVbSuK0C",
      "authorship_tag": "ABX9TyP5CkBY2CMEbs62Vm5S6IHv",
      "include_colab_link": true
    },
    "kernelspec": {
      "name": "python3",
      "display_name": "Python 3"
    },
    "language_info": {
      "name": "python"
    }
  },
  "cells": [
    {
      "cell_type": "markdown",
      "metadata": {
        "id": "view-in-github",
        "colab_type": "text"
      },
      "source": [
        "<a href=\"https://colab.research.google.com/github/Investigator13th/CS246/blob/main/CS246_homework3_2.ipynb\" target=\"_parent\"><img src=\"https://colab.research.google.com/assets/colab-badge.svg\" alt=\"Open In Colab\"/></a>"
      ]
    },
    {
      "cell_type": "code",
      "execution_count": null,
      "metadata": {
        "id": "qn4z6tqyqCkZ",
        "colab": {
          "base_uri": "https://localhost:8080/"
        },
        "outputId": "96a5b66c-c1f9-4c22-8cc8-c7b2ce66ea3e"
      },
      "outputs": [
        {
          "output_type": "stream",
          "name": "stdout",
          "text": [
            "Requirement already satisfied: pyspark in /usr/local/lib/python3.10/dist-packages (3.5.1)\n",
            "Requirement already satisfied: py4j==0.10.9.7 in /usr/local/lib/python3.10/dist-packages (from pyspark) (0.10.9.7)\n",
            "openjdk-8-jdk-headless is already the newest version (8u412-ga-1~22.04.1).\n",
            "The following packages were automatically installed and are no longer required:\n",
            "  libhawtjni-runtime-java libjansi-java libjansi-native-java libjline2-java\n",
            "  scala-parser-combinators scala-xml\n",
            "Use 'apt autoremove' to remove them.\n",
            "0 upgraded, 0 newly installed, 0 to remove and 47 not upgraded.\n"
          ]
        }
      ],
      "source": [
        "!pip install pyspark\n",
        "!pip install -U -q PyDrive2\n",
        "\n",
        "!mv /usr/local/lib/libtbbmalloc_proxy.so.2 /usr/local/lib/libtbbmalloc_proxy.so.2.backup\n",
        "!mv /usr/local/lib/libtbbmalloc.so.2 /usr/local/lib/libtbbmalloc.so.2.backup\n",
        "!mv /usr/local/lib/libtbbbind_2_5.so.3 /usr/local/lib/libtbbbind_2_5.so.3.backup\n",
        "!mv /usr/local/lib/libtbb.so.12 /usr/local/lib/libtbb.so.12.backup\n",
        "!mv /usr/local/lib/libtbbbind_2_0.so.3 /usr/local/lib/libtbbbind_2_0.so.3.backup\n",
        "!mv /usr/local/lib/libtbbbind.so.3 /usr/local/lib/libtbbbind.so.3.backup\n",
        "!ln -s /usr/local/lib/libtbbmalloc_proxy.so.2.11 /usr/local/lib/libtbbmalloc_proxy.so.2\n",
        "!ln -s /usr/local/lib/libtbbmalloc.so.2.11 /usr/local/lib/libtbbmalloc.so.2\n",
        "!ln -s /usr/local/lib/libtbbbind_2_5.so.3.11 /usr/local/lib/libtbbbind_2_5.so.3\n",
        "!ln -s /usr/local/lib/libtbb.so.12.11 /usr/local/lib/libtbb.so.12\n",
        "!ln -s /usr/local/lib/libtbbbind_2_0.so.3.11 /usr/local/lib/libtbbbind_2_0.so.3\n",
        "!ln -s /usr/local/lib/libtbbbind.so.3.11 /usr/local/lib/libtbbbind.so.3\n",
        "\n",
        "!apt install openjdk-8-jdk-headless -qq\n",
        "import os\n",
        "os.environ[\"JAVA_HOME\"] = \"/usr/lib/jvm/java-8-openjdk-amd64\""
      ]
    },
    {
      "cell_type": "code",
      "source": [
        "import pyspark\n",
        "from pyspark.sql import *\n",
        "from pyspark.sql.types import *\n",
        "from pyspark.sql.functions import *\n",
        "from pyspark import SparkContext, SparkConf"
      ],
      "metadata": {
        "id": "5GvdnMJJtghc"
      },
      "execution_count": null,
      "outputs": []
    },
    {
      "cell_type": "code",
      "source": [
        "import pandas as pd\n",
        "import numpy as np\n",
        "import matplotlib.pyplot as plt\n",
        "%matplotlib inline"
      ],
      "metadata": {
        "id": "7GfuVG37th11"
      },
      "execution_count": null,
      "outputs": []
    },
    {
      "cell_type": "code",
      "source": [
        "from pyspark.ml.graph import GraphFrames"
      ],
      "metadata": {
        "colab": {
          "base_uri": "https://localhost:8080/",
          "height": 317
        },
        "id": "xtVT_x-jV-7S",
        "outputId": "f48d78c7-c1f8-4946-8a12-f648194839b9"
      },
      "execution_count": null,
      "outputs": [
        {
          "output_type": "error",
          "ename": "ModuleNotFoundError",
          "evalue": "No module named 'pyspark.ml.graph'",
          "traceback": [
            "\u001b[0;31m---------------------------------------------------------------------------\u001b[0m",
            "\u001b[0;31mModuleNotFoundError\u001b[0m                       Traceback (most recent call last)",
            "\u001b[0;32m<ipython-input-14-d98f9c089667>\u001b[0m in \u001b[0;36m<cell line: 1>\u001b[0;34m()\u001b[0m\n\u001b[0;32m----> 1\u001b[0;31m \u001b[0;32mfrom\u001b[0m \u001b[0mpyspark\u001b[0m\u001b[0;34m.\u001b[0m\u001b[0mml\u001b[0m\u001b[0;34m.\u001b[0m\u001b[0mgraph\u001b[0m \u001b[0;32mimport\u001b[0m \u001b[0mGraphFrames\u001b[0m\u001b[0;34m\u001b[0m\u001b[0;34m\u001b[0m\u001b[0m\n\u001b[0m",
            "\u001b[0;31mModuleNotFoundError\u001b[0m: No module named 'pyspark.ml.graph'",
            "",
            "\u001b[0;31m---------------------------------------------------------------------------\u001b[0;32m\nNOTE: If your import is failing due to a missing package, you can\nmanually install dependencies using either !pip or !apt.\n\nTo view examples of installing some common dependencies, click the\n\"Open Examples\" button below.\n\u001b[0;31m---------------------------------------------------------------------------\u001b[0m\n"
          ],
          "errorDetails": {
            "actions": [
              {
                "action": "open_url",
                "actionText": "Open Examples",
                "url": "/notebooks/snippets/importing_libraries.ipynb"
              }
            ]
          }
        }
      ]
    },
    {
      "cell_type": "code",
      "source": [
        "spark = SparkSession.builder \\\n",
        "       .appName(\"Graph\") \\\n",
        "       .config(\"spark.jars\", \"/usr/local/lib/python3.10/dist-packages/pyspark/jars/graphframes-0.8.3-spark3.5-s_2.12.jar\") \\\n",
        "       .getOrCreate()"
      ],
      "metadata": {
        "id": "90bKf8yQtiRz"
      },
      "execution_count": null,
      "outputs": []
    },
    {
      "cell_type": "code",
      "source": [
        "spark = SparkSession.builder.getOrCreate()"
      ],
      "metadata": {
        "id": "8vo7GuNWY9w6"
      },
      "execution_count": null,
      "outputs": []
    },
    {
      "cell_type": "code",
      "source": [
        "!pip install graphframes\n",
        "from graphframes import GraphFrame"
      ],
      "metadata": {
        "colab": {
          "base_uri": "https://localhost:8080/"
        },
        "id": "PMNimnML7l5_",
        "outputId": "f4892196-aa3e-4256-fcbf-68609956b26f"
      },
      "execution_count": null,
      "outputs": [
        {
          "output_type": "stream",
          "name": "stdout",
          "text": [
            "Requirement already satisfied: graphframes in /usr/local/lib/python3.10/dist-packages (0.6)\n",
            "Requirement already satisfied: numpy in /usr/local/lib/python3.10/dist-packages (from graphframes) (1.25.2)\n",
            "Requirement already satisfied: nose in /usr/local/lib/python3.10/dist-packages (from graphframes) (1.3.7)\n"
          ]
        }
      ]
    },
    {
      "cell_type": "code",
      "source": [
        "# 读取rdd\n",
        "data = spark.sparkContext.textFile(\"/content/drive/MyDrive/hw3-bundle/q2/data/graph-full.txt\")\n",
        "edges_rdd = data.map(lambda line: tuple(line.split(\"\\t\")))\n",
        "edges = edges_rdd.map(lambda x: (int(x[0]), int(x[1]))).distinct()"
      ],
      "metadata": {
        "id": "cViKGJ_5t4kK"
      },
      "execution_count": 37,
      "outputs": []
    },
    {
      "cell_type": "code",
      "source": [
        "# 转化为dataframe\n",
        "edges_df = spark.createDataFrame(edges, [\"src\", \"dst\"]).toDF(\"src\", \"dst\")\n",
        "vertices_df = edges_df.select(\"src\").union(edges_df.select(\"dst\")).distinct().withColumnRenamed(\"src\", \"id\")"
      ],
      "metadata": {
        "id": "7oEayDiB8MQb"
      },
      "execution_count": null,
      "outputs": []
    },
    {
      "cell_type": "code",
      "source": [
        "# 创建GraphFrame\n",
        "g = GraphFrame(vertices_df, edges_df)"
      ],
      "metadata": {
        "colab": {
          "base_uri": "https://localhost:8080/"
        },
        "id": "Iu2FEN2L8cLl",
        "outputId": "f261446b-c0e6-4cb1-cc12-6290b8b780a0"
      },
      "execution_count": null,
      "outputs": [
        {
          "output_type": "stream",
          "name": "stderr",
          "text": [
            "/usr/local/lib/python3.10/dist-packages/pyspark/sql/dataframe.py:168: UserWarning: DataFrame.sql_ctx is an internal property, and will be removed in future releases. Use DataFrame.sparkSession instead.\n",
            "  warnings.warn(\n"
          ]
        }
      ]
    },
    {
      "cell_type": "code",
      "source": [
        "result = g.pageRank(resetProbability=0.2, maxIter=40)"
      ],
      "metadata": {
        "colab": {
          "base_uri": "https://localhost:8080/"
        },
        "id": "k1S4aej-cFNo",
        "outputId": "e89aa8a2-f489-4c04-b72e-03ac026b90cd"
      },
      "execution_count": null,
      "outputs": [
        {
          "output_type": "stream",
          "name": "stderr",
          "text": [
            "/usr/local/lib/python3.10/dist-packages/pyspark/sql/dataframe.py:147: UserWarning: DataFrame constructor is internal. Do not directly use it.\n",
            "  warnings.warn(\"DataFrame constructor is internal. Do not directly use it.\")\n"
          ]
        }
      ]
    },
    {
      "cell_type": "code",
      "source": [
        "top_ranks = result.vertices.orderBy('pagerank', ascending=False).limit(5)\n",
        "top_ranks.show()"
      ],
      "metadata": {
        "colab": {
          "base_uri": "https://localhost:8080/"
        },
        "id": "f-emaqbIcZZD",
        "outputId": "e905c013-ec58-4f80-d0f0-b84b75e86d95"
      },
      "execution_count": null,
      "outputs": [
        {
          "output_type": "stream",
          "name": "stdout",
          "text": [
            "+---+------------------+\n",
            "| id|          pagerank|\n",
            "+---+------------------+\n",
            "|263| 2.020291181518219|\n",
            "|537|  1.94334157145315|\n",
            "|965| 1.925447807166263|\n",
            "|243|1.8526340162417312|\n",
            "|285|1.8273721700645142|\n",
            "+---+------------------+\n",
            "\n"
          ]
        }
      ]
    },
    {
      "cell_type": "code",
      "source": [
        "bottom_ranks = result.vertices.orderBy('pagerank', ascending=True).limit(5)\n",
        "bottom_ranks.show()"
      ],
      "metadata": {
        "colab": {
          "base_uri": "https://localhost:8080/"
        },
        "id": "JMHZGBC-coLD",
        "outputId": "684af7e3-7215-4340-e79e-64189681d260"
      },
      "execution_count": null,
      "outputs": [
        {
          "output_type": "stream",
          "name": "stdout",
          "text": [
            "+---+-------------------+\n",
            "| id|           pagerank|\n",
            "+---+-------------------+\n",
            "|558| 0.3286018525215298|\n",
            "| 93|0.35135689375165774|\n",
            "| 62| 0.3531481051059628|\n",
            "|424|0.35481538649301453|\n",
            "|408| 0.3877984871929171|\n",
            "+---+-------------------+\n",
            "\n"
          ]
        }
      ]
    },
    {
      "cell_type": "code",
      "source": [
        "sc = spark.sparkContext"
      ],
      "metadata": {
        "id": "5ueRclTJxoSz"
      },
      "execution_count": 34,
      "outputs": []
    },
    {
      "cell_type": "code",
      "source": [
        "nodes = edges.flatMap(lambda edge: edge).map(lambda node: (node, 1.0)).distinct()\n",
        "# edges.join(nodes).map(lambda x: (x[1][0][1], x[1][1])).reduceByKey(lambda a, b: a + b).take(5)\n",
        "edges.join(nodes).take(5)"
      ],
      "metadata": {
        "colab": {
          "base_uri": "https://localhost:8080/"
        },
        "id": "-9MTiJFvye0L",
        "outputId": "9ac7e9d4-e4df-4b26-c4d7-5b3f8cd629e3"
      },
      "execution_count": 44,
      "outputs": [
        {
          "output_type": "execute_result",
          "data": {
            "text/plain": [
              "[(816, (774, 1.0)),\n",
              " (816, (208, 1.0)),\n",
              " (816, (894, 1.0)),\n",
              " (816, (762, 1.0)),\n",
              " (816, (817, 1.0))]"
            ]
          },
          "metadata": {},
          "execution_count": 44
        }
      ]
    },
    {
      "cell_type": "code",
      "source": [
        "nodes.take(5)"
      ],
      "metadata": {
        "colab": {
          "base_uri": "https://localhost:8080/"
        },
        "id": "RRSjTnuY1wjf",
        "outputId": "8cf6debd-dfe1-46ed-f105-9aa5cd9a0edc"
      },
      "execution_count": 45,
      "outputs": [
        {
          "output_type": "execute_result",
          "data": {
            "text/plain": [
              "[(367, 1.0), (281, 1.0), (641, 1.0), (231, 1.0), (477, 1.0)]"
            ]
          },
          "metadata": {},
          "execution_count": 45
        }
      ]
    },
    {
      "cell_type": "code",
      "source": [
        "import time"
      ],
      "metadata": {
        "id": "NLgGLTKI1ypP"
      },
      "execution_count": 57,
      "outputs": []
    },
    {
      "cell_type": "code",
      "source": [
        "def hits(sc, edges, num_iterations=20):\n",
        "    # Step 1: Create initial RDDs for hubs and authorities\n",
        "    nodes = edges.flatMap(lambda edge: edge).map(lambda node: (node, 1.0)).distinct()\n",
        "    authorities = nodes\n",
        "    hubs = nodes\n",
        "\n",
        "    # 缓存edges和hubs以避免重复计算\n",
        "\n",
        "    # Step 2: Iterate over the edges to compute new scores\n",
        "    for i in range(num_iterations):\n",
        "        time1=time.time()\n",
        "\n",
        "        # 更新权威值\n",
        "        new_authorities = edges.join(hubs).map(lambda x: (x[1][0], x[1][1])).reduceByKey(lambda a, b: a + b)\n",
        "\n",
        "        new_hubs = edges.map(lambda x: (x[1], x[0])).join(new_authorities).map(lambda x: (x[0], x[1][1])).reduceByKey(lambda a, b: a + b)\n",
        "\n",
        "        # Normalize scores\n",
        "        max_authorities = new_authorities.values().max()\n",
        "        max_hubs = new_hubs.values().max()\n",
        "        new_authorities = new_authorities.mapValues(lambda v: v / max_authorities)\n",
        "        new_hubs = new_hubs.mapValues(lambda v: v / max_hubs)\n",
        "\n",
        "        # Update authorities and hubs\n",
        "        authorities = new_authorities\n",
        "        hubs = new_hubs\n",
        "\n",
        "        time2 = time.time()\n",
        "        print(f\"第{i+1}次迭代用时{time2-time1}秒\")\n",
        "\n",
        "    return authorities, hubs\n"
      ],
      "metadata": {
        "id": "blJTTvHHxtAr"
      },
      "execution_count": 76,
      "outputs": []
    },
    {
      "cell_type": "code",
      "source": [
        "# Load data\n",
        "\n",
        "# Call the HITS function\n",
        "authorities, hubs = hits(sc, edges)\n",
        "\n",
        "# Collect results\n",
        "authorities = authorities.collectAsMap()\n",
        "hubs = hubs.collectAsMap()\n"
      ],
      "metadata": {
        "colab": {
          "base_uri": "https://localhost:8080/"
        },
        "id": "6TMhmJooxoX2",
        "outputId": "26594fa0-23c7-4c5f-a1f0-52baf46be16b"
      },
      "execution_count": 77,
      "outputs": [
        {
          "output_type": "stream",
          "name": "stdout",
          "text": [
            "第1次迭代用时6.413169622421265秒\n",
            "第2次迭代用时12.110769033432007秒\n",
            "第3次迭代用时16.838576793670654秒\n",
            "第4次迭代用时23.530759811401367秒\n",
            "第5次迭代用时24.924242734909058秒\n",
            "第6次迭代用时31.82461190223694秒\n",
            "第7次迭代用时38.88038158416748秒\n",
            "第8次迭代用时41.02754187583923秒\n",
            "第9次迭代用时46.601670265197754秒\n",
            "第10次迭代用时52.702900648117065秒\n",
            "第11次迭代用时57.86358380317688秒\n",
            "第12次迭代用时65.53952646255493秒\n",
            "第13次迭代用时68.47106885910034秒\n",
            "第14次迭代用时71.12370705604553秒\n",
            "第15次迭代用时77.64355659484863秒\n",
            "第16次迭代用时84.70019221305847秒\n",
            "第17次迭代用时87.32892203330994秒\n",
            "第18次迭代用时93.98415756225586秒\n",
            "第19次迭代用时95.3867826461792秒\n",
            "第20次迭代用时101.66957759857178秒\n"
          ]
        }
      ]
    },
    {
      "cell_type": "code",
      "source": [
        "top_authorities = sorted(authorities.items(), key=lambda item: item[1], reverse=True)[:5]\n",
        "bottom_authorities = sorted(authorities.items(), key=lambda item: item[1], reverse=False)[:5]\n",
        "\n",
        "\n",
        "top_hubs = sorted(hubs.items(), key=lambda item: item[1], reverse=True)[:5]\n",
        "bottom_hubs = sorted(hubs.items(), key=lambda item: item[1], reverse=False)[:5]\n",
        "\n",
        "print(\"Top 5 Authorities:\")\n",
        "for node, score in top_authorities:\n",
        "    print(f\"Node {node}: {score}\")\n",
        "\n",
        "print(\"\\nBottom 5 Authorities:\")\n",
        "for node, score in bottom_authorities:\n",
        "    print(f\"Node {node}: {score}\")\n",
        "\n",
        "print(\"\\nTop 5 Hubs:\")\n",
        "for node, score in top_hubs:\n",
        "    print(f\"Node {node}: {score}\")\n",
        "\n",
        "print(\"\\nBottom 5 Hubs:\")\n",
        "for node, score in bottom_hubs:\n",
        "    print(f\"Node {node}: {score}\")"
      ],
      "metadata": {
        "colab": {
          "base_uri": "https://localhost:8080/"
        },
        "id": "SbiheCeyyEsG",
        "outputId": "00e25a9d-197a-4c28-bed4-da6e2f5356b6"
      },
      "execution_count": 78,
      "outputs": [
        {
          "output_type": "stream",
          "name": "stdout",
          "text": [
            "Top 5 Authorities:\n",
            "Node 16: 1.0\n",
            "Node 537: 0.9004515846640125\n",
            "Node 381: 0.8954816040952954\n",
            "Node 965: 0.8933180568712675\n",
            "Node 389: 0.8479288650546584\n",
            "\n",
            "Bottom 5 Authorities:\n",
            "Node 742: 0.03510360258162666\n",
            "Node 93: 0.049764801616701757\n",
            "Node 745: 0.053248592081665776\n",
            "Node 892: 0.06153636569657152\n",
            "Node 135: 0.06177882092195121\n",
            "\n",
            "Top 5 Hubs:\n",
            "Node 16: 1.0\n",
            "Node 965: 0.8374856783168138\n",
            "Node 537: 0.7878951365810112\n",
            "Node 243: 0.7581223178745403\n",
            "Node 747: 0.7475360997866405\n",
            "\n",
            "Bottom 5 Hubs:\n",
            "Node 93: 0.006220600202087722\n",
            "Node 742: 0.006581925484055002\n",
            "Node 62: 0.007834037009189733\n",
            "Node 408: 0.007844556602368024\n",
            "Node 424: 0.008719556651998127\n"
          ]
        }
      ]
    },
    {
      "cell_type": "code",
      "source": [],
      "metadata": {
        "id": "AYCYMl1XEEhr"
      },
      "execution_count": null,
      "outputs": []
    }
  ]
}