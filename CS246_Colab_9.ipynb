{
  "nbformat": 4,
  "nbformat_minor": 0,
  "metadata": {
    "colab": {
      "provenance": [],
      "toc_visible": true,
      "include_colab_link": true
    },
    "kernelspec": {
      "name": "python3",
      "display_name": "Python 3"
    }
  },
  "cells": [
    {
      "cell_type": "markdown",
      "metadata": {
        "id": "view-in-github",
        "colab_type": "text"
      },
      "source": [
        "<a href=\"https://colab.research.google.com/github/Investigator13th/CS246/blob/main/CS246_Colab_9.ipynb\" target=\"_parent\"><img src=\"https://colab.research.google.com/assets/colab-badge.svg\" alt=\"Open In Colab\"/></a>"
      ]
    },
    {
      "cell_type": "markdown",
      "metadata": {
        "id": "kPt5q27L5557"
      },
      "source": [
        "# CS246 - Colab 9\n",
        "## Studying COVID-19"
      ]
    },
    {
      "cell_type": "code",
      "source": [
        "from IPython.display import Image\n",
        "print(\"Colab 9 Mascot saying Bye-Bye :( \\n\")\n",
        "Image(url='https://media.giphy.com/media/tuvMgAPzxaQBq/giphy.gif',width=200)"
      ],
      "metadata": {
        "colab": {
          "base_uri": "https://localhost:8080/",
          "height": 211
        },
        "id": "mittXosPIUOV",
        "outputId": "f4b8e043-923b-403f-a3c1-2df3c0158894"
      },
      "execution_count": null,
      "outputs": [
        {
          "output_type": "stream",
          "name": "stdout",
          "text": [
            "Colab 9 Mascot saying Bye-Bye :( \n",
            "\n"
          ]
        },
        {
          "output_type": "execute_result",
          "data": {
            "text/html": [
              "<img src=\"https://media.giphy.com/media/tuvMgAPzxaQBq/giphy.gif\" width=\"200\"/>"
            ],
            "text/plain": [
              "<IPython.core.display.Image object>"
            ]
          },
          "metadata": {},
          "execution_count": 4
        }
      ]
    },
    {
      "cell_type": "markdown",
      "metadata": {
        "id": "p0-YhEpP_Ds-"
      },
      "source": [
        "### Setup"
      ]
    },
    {
      "cell_type": "markdown",
      "metadata": {
        "id": "Zsj5WYpR9QId"
      },
      "source": [
        "Let's set up Spark on your Colab environment.  Run the cell below!"
      ]
    },
    {
      "cell_type": "code",
      "metadata": {
        "id": "k-qHai2252mI",
        "outputId": "1c3ae01f-7a45-4dc4-bf52-f9d536fdfc6d",
        "colab": {
          "base_uri": "https://localhost:8080/"
        }
      },
      "source": [
        "!pip install pyspark\n",
        "!pip install -U -q PyDrive\n",
        "!apt install openjdk-8-jdk-headless -qq\n",
        "import os\n",
        "os.environ[\"JAVA_HOME\"] = \"/usr/lib/jvm/java-8-openjdk-amd64\""
      ],
      "execution_count": 16,
      "outputs": [
        {
          "output_type": "stream",
          "name": "stdout",
          "text": [
            "Requirement already satisfied: pyspark in /usr/local/lib/python3.10/dist-packages (3.5.1)\n",
            "Requirement already satisfied: py4j==0.10.9.7 in /usr/local/lib/python3.10/dist-packages (from pyspark) (0.10.9.7)\n",
            "openjdk-8-jdk-headless is already the newest version (8u412-ga-1~22.04.1).\n",
            "0 upgraded, 0 newly installed, 0 to remove and 45 not upgraded.\n"
          ]
        }
      ]
    },
    {
      "cell_type": "markdown",
      "metadata": {
        "id": "PUUjUvXe3Sjk"
      },
      "source": [
        "Now we authenticate a Google Drive client to download the files we will be processing in our Spark job.\n",
        "\n",
        "**Make sure to follow the interactive instructions.**"
      ]
    },
    {
      "cell_type": "code",
      "metadata": {
        "id": "lRElWs_x2mGh"
      },
      "source": [
        "from pydrive.auth import GoogleAuth\n",
        "from pydrive.drive import GoogleDrive\n",
        "from google.colab import auth\n",
        "from oauth2client.client import GoogleCredentials\n",
        "\n",
        "# Authenticate and create the PyDrive client\n",
        "auth.authenticate_user()\n",
        "gauth = GoogleAuth()\n",
        "gauth.credentials = GoogleCredentials.get_application_default()\n",
        "drive = GoogleDrive(gauth)"
      ],
      "execution_count": 17,
      "outputs": []
    },
    {
      "cell_type": "code",
      "metadata": {
        "id": "QHsFTGUy2n1c"
      },
      "source": [
        "id='1YT7ttUAafCjbVdm6obeHp1TWAK0rEtoR'\n",
        "downloaded = drive.CreateFile({'id': id})\n",
        "downloaded.GetContentFile('time_series_covid19_confirmed_global.csv')\n",
        "\n",
        "id='1YxEA5UQ2EFJ_9oLssM__Gs1ncVNufGNA'\n",
        "downloaded = drive.CreateFile({'id': id})\n",
        "downloaded.GetContentFile('time_series_covid19_deaths_global.csv')\n",
        "\n",
        "id='1CNxszuZTeIw-5cF5yrzKMZdb1qV0hSoy'\n",
        "downloaded = drive.CreateFile({'id': id})\n",
        "downloaded.GetContentFile('time_series_covid19_recovered_global.csv')"
      ],
      "execution_count": 18,
      "outputs": []
    },
    {
      "cell_type": "markdown",
      "metadata": {
        "id": "qwtlO4_m_LbQ"
      },
      "source": [
        "If you executed the cells above, you should be able to see the dataset we will use for this Colab under the \"Files\" tab on the left panel.\n",
        "\n",
        "Next, we import some of the common libraries needed for our task."
      ]
    },
    {
      "cell_type": "code",
      "metadata": {
        "id": "twk-K-jilWK7"
      },
      "source": [
        "import pandas as pd\n",
        "import numpy as np\n",
        "import matplotlib.pyplot as plt\n",
        "%matplotlib inline\n",
        "\n",
        "import pyspark\n",
        "from pyspark.sql import *\n",
        "from pyspark.sql.types import *\n",
        "from pyspark.sql.functions import *\n",
        "from pyspark import SparkContext, SparkConf"
      ],
      "execution_count": 19,
      "outputs": []
    },
    {
      "cell_type": "markdown",
      "metadata": {
        "id": "BtrJlMBt1Ela"
      },
      "source": [
        "Let's initialize the Spark context."
      ]
    },
    {
      "cell_type": "code",
      "metadata": {
        "id": "Vm3sAVeK1EDZ"
      },
      "source": [
        "# create the session\n",
        "conf = SparkConf().set(\"spark.ui.port\", \"4050\")\n",
        "\n",
        "# create the context\n",
        "# sc = pyspark.SparkContext(conf=conf)\n",
        "spark = SparkSession.builder.getOrCreate()"
      ],
      "execution_count": 22,
      "outputs": []
    },
    {
      "cell_type": "markdown",
      "metadata": {
        "id": "kAYRX2PMm0L6"
      },
      "source": [
        "### Data Loading"
      ]
    },
    {
      "cell_type": "markdown",
      "metadata": {
        "id": "7hXdMR6wnEIM"
      },
      "source": [
        "In this Colab, we will be analyzing the time series data of the Coronavirus COVID-19 Global Cases, collected by Johns Hopkins CSSE.\n",
        "\n",
        "Here you can check a realtime dashboard based on this dataset: [https://www.arcgis.com/apps/opsdashboard/index.html?fbclid=IwAR2hQKsEZ3D38wVtXGryUhP9CG0Z6MYbUM_boPEaV8FBe71wUvDPc65ZG78#/bda7594740fd40299423467b48e9ecf6](https://www.arcgis.com/apps/opsdashboard/index.html?fbclid=IwAR2hQKsEZ3D38wVtXGryUhP9CG0Z6MYbUM_boPEaV8FBe71wUvDPc65ZG78#/bda7594740fd40299423467b48e9ecf6)\n",
        "\n",
        "---\n",
        "\n",
        "\n",
        "\n",
        "*   ```confirmed```: dataframe containing the cumulative number of confirmed COVID-19 cases, divided by geographical area\n",
        "*   ```deaths```: dataframe containing the cumulative number of deaths due to COVID-19, divided by geographical area\n",
        "*   ```recovered```: dataframe containing the cumulative number of recoevered patients, divided by geographical area\n",
        "\n",
        "The data sets contain data entries for each day, representing the cumulative totals as of that day.\n",
        "\n",
        "\n",
        "\n",
        "\n",
        "\n"
      ]
    },
    {
      "cell_type": "code",
      "metadata": {
        "id": "EUSeIQlNqv6J"
      },
      "source": [
        "confirmed = spark.read.csv('time_series_covid19_confirmed_global.csv', header=True)\n",
        "deaths = spark.read.csv('time_series_covid19_deaths_global.csv', header=True)\n",
        "recovered = spark.read.csv('time_series_covid19_recovered_global.csv', header=True)"
      ],
      "execution_count": 23,
      "outputs": []
    },
    {
      "cell_type": "code",
      "metadata": {
        "id": "NvyFsE-fLXpg",
        "outputId": "a734b04c-bd73-4a76-f473-ca2fb5108e0c",
        "colab": {
          "base_uri": "https://localhost:8080/"
        }
      },
      "source": [
        "confirmed.printSchema()"
      ],
      "execution_count": 24,
      "outputs": [
        {
          "output_type": "stream",
          "name": "stdout",
          "text": [
            "root\n",
            " |-- Province/State: string (nullable = true)\n",
            " |-- Country/Region: string (nullable = true)\n",
            " |-- Lat: string (nullable = true)\n",
            " |-- Long: string (nullable = true)\n",
            " |-- 1/22/20: string (nullable = true)\n",
            " |-- 1/23/20: string (nullable = true)\n",
            " |-- 1/24/20: string (nullable = true)\n",
            " |-- 1/25/20: string (nullable = true)\n",
            " |-- 1/26/20: string (nullable = true)\n",
            " |-- 1/27/20: string (nullable = true)\n",
            " |-- 1/28/20: string (nullable = true)\n",
            " |-- 1/29/20: string (nullable = true)\n",
            " |-- 1/30/20: string (nullable = true)\n",
            " |-- 1/31/20: string (nullable = true)\n",
            " |-- 2/1/20: string (nullable = true)\n",
            " |-- 2/2/20: string (nullable = true)\n",
            " |-- 2/3/20: string (nullable = true)\n",
            " |-- 2/4/20: string (nullable = true)\n",
            " |-- 2/5/20: string (nullable = true)\n",
            " |-- 2/6/20: string (nullable = true)\n",
            " |-- 2/7/20: string (nullable = true)\n",
            " |-- 2/8/20: string (nullable = true)\n",
            " |-- 2/9/20: string (nullable = true)\n",
            " |-- 2/10/20: string (nullable = true)\n",
            " |-- 2/11/20: string (nullable = true)\n",
            " |-- 2/12/20: string (nullable = true)\n",
            " |-- 2/13/20: string (nullable = true)\n",
            " |-- 2/14/20: string (nullable = true)\n",
            " |-- 2/15/20: string (nullable = true)\n",
            " |-- 2/16/20: string (nullable = true)\n",
            " |-- 2/17/20: string (nullable = true)\n",
            " |-- 2/18/20: string (nullable = true)\n",
            " |-- 2/19/20: string (nullable = true)\n",
            " |-- 2/20/20: string (nullable = true)\n",
            " |-- 2/21/20: string (nullable = true)\n",
            " |-- 2/22/20: string (nullable = true)\n",
            " |-- 2/23/20: string (nullable = true)\n",
            " |-- 2/24/20: string (nullable = true)\n",
            " |-- 2/25/20: string (nullable = true)\n",
            " |-- 2/26/20: string (nullable = true)\n",
            " |-- 2/27/20: string (nullable = true)\n",
            " |-- 2/28/20: string (nullable = true)\n",
            " |-- 2/29/20: string (nullable = true)\n",
            " |-- 3/1/20: string (nullable = true)\n",
            " |-- 3/2/20: string (nullable = true)\n",
            " |-- 3/3/20: string (nullable = true)\n",
            " |-- 3/4/20: string (nullable = true)\n",
            " |-- 3/5/20: string (nullable = true)\n",
            " |-- 3/6/20: string (nullable = true)\n",
            " |-- 3/7/20: string (nullable = true)\n",
            " |-- 3/8/20: string (nullable = true)\n",
            " |-- 3/9/20: string (nullable = true)\n",
            " |-- 3/10/20: string (nullable = true)\n",
            " |-- 3/11/20: string (nullable = true)\n",
            " |-- 3/12/20: string (nullable = true)\n",
            " |-- 3/13/20: string (nullable = true)\n",
            " |-- 3/14/20: string (nullable = true)\n",
            " |-- 3/15/20: string (nullable = true)\n",
            " |-- 3/16/20: string (nullable = true)\n",
            " |-- 3/17/20: string (nullable = true)\n",
            " |-- 3/18/20: string (nullable = true)\n",
            " |-- 3/19/20: string (nullable = true)\n",
            " |-- 3/20/20: string (nullable = true)\n",
            " |-- 3/21/20: string (nullable = true)\n",
            " |-- 3/22/20: string (nullable = true)\n",
            " |-- 3/23/20: string (nullable = true)\n",
            " |-- 3/24/20: string (nullable = true)\n",
            " |-- 3/25/20: string (nullable = true)\n",
            " |-- 3/26/20: string (nullable = true)\n",
            " |-- 3/27/20: string (nullable = true)\n",
            " |-- 3/28/20: string (nullable = true)\n",
            " |-- 3/29/20: string (nullable = true)\n",
            " |-- 3/30/20: string (nullable = true)\n",
            " |-- 3/31/20: string (nullable = true)\n",
            " |-- 4/1/20: string (nullable = true)\n",
            " |-- 4/2/20: string (nullable = true)\n",
            " |-- 4/3/20: string (nullable = true)\n",
            " |-- 4/4/20: string (nullable = true)\n",
            " |-- 4/5/20: string (nullable = true)\n",
            " |-- 4/6/20: string (nullable = true)\n",
            " |-- 4/7/20: string (nullable = true)\n",
            " |-- 4/8/20: string (nullable = true)\n",
            " |-- 4/9/20: string (nullable = true)\n",
            " |-- 4/10/20: string (nullable = true)\n",
            " |-- 4/11/20: string (nullable = true)\n",
            " |-- 4/12/20: string (nullable = true)\n",
            " |-- 4/13/20: string (nullable = true)\n",
            " |-- 4/14/20: string (nullable = true)\n",
            " |-- 4/15/20: string (nullable = true)\n",
            " |-- 4/16/20: string (nullable = true)\n",
            " |-- 4/17/20: string (nullable = true)\n",
            " |-- 4/18/20: string (nullable = true)\n",
            " |-- 4/19/20: string (nullable = true)\n",
            " |-- 4/20/20: string (nullable = true)\n",
            " |-- 4/21/20: string (nullable = true)\n",
            " |-- 4/22/20: string (nullable = true)\n",
            " |-- 4/23/20: string (nullable = true)\n",
            " |-- 4/24/20: string (nullable = true)\n",
            " |-- 4/25/20: string (nullable = true)\n",
            " |-- 4/26/20: string (nullable = true)\n",
            " |-- 4/27/20: string (nullable = true)\n",
            " |-- 4/28/20: string (nullable = true)\n",
            " |-- 4/29/20: string (nullable = true)\n",
            " |-- 4/30/20: string (nullable = true)\n",
            " |-- 5/1/20: string (nullable = true)\n",
            " |-- 5/2/20: string (nullable = true)\n",
            " |-- 5/3/20: string (nullable = true)\n",
            " |-- 5/4/20: string (nullable = true)\n",
            " |-- 5/5/20: string (nullable = true)\n",
            " |-- 5/6/20: string (nullable = true)\n",
            " |-- 5/7/20: string (nullable = true)\n",
            " |-- 5/8/20: string (nullable = true)\n",
            " |-- 5/9/20: string (nullable = true)\n",
            " |-- 5/10/20: string (nullable = true)\n",
            " |-- 5/11/20: string (nullable = true)\n",
            " |-- 5/12/20: string (nullable = true)\n",
            " |-- 5/13/20: string (nullable = true)\n",
            " |-- 5/14/20: string (nullable = true)\n",
            " |-- 5/15/20: string (nullable = true)\n",
            " |-- 5/16/20: string (nullable = true)\n",
            " |-- 5/17/20: string (nullable = true)\n",
            " |-- 5/18/20: string (nullable = true)\n",
            " |-- 5/19/20: string (nullable = true)\n",
            " |-- 5/20/20: string (nullable = true)\n",
            " |-- 5/21/20: string (nullable = true)\n",
            " |-- 5/22/20: string (nullable = true)\n",
            " |-- 5/23/20: string (nullable = true)\n",
            " |-- 5/24/20: string (nullable = true)\n",
            " |-- 5/25/20: string (nullable = true)\n",
            " |-- 5/26/20: string (nullable = true)\n",
            " |-- 5/27/20: string (nullable = true)\n",
            " |-- 5/28/20: string (nullable = true)\n",
            " |-- 5/29/20: string (nullable = true)\n",
            " |-- 5/30/20: string (nullable = true)\n",
            " |-- 5/31/20: string (nullable = true)\n",
            " |-- 6/1/20: string (nullable = true)\n",
            " |-- 6/2/20: string (nullable = true)\n",
            " |-- 6/3/20: string (nullable = true)\n",
            " |-- 6/4/20: string (nullable = true)\n",
            " |-- 6/5/20: string (nullable = true)\n",
            " |-- 6/6/20: string (nullable = true)\n",
            " |-- 6/7/20: string (nullable = true)\n",
            " |-- 6/8/20: string (nullable = true)\n",
            " |-- 6/9/20: string (nullable = true)\n",
            " |-- 6/10/20: string (nullable = true)\n",
            " |-- 6/11/20: string (nullable = true)\n",
            " |-- 6/12/20: string (nullable = true)\n",
            " |-- 6/13/20: string (nullable = true)\n",
            " |-- 6/14/20: string (nullable = true)\n",
            " |-- 6/15/20: string (nullable = true)\n",
            " |-- 6/16/20: string (nullable = true)\n",
            " |-- 6/17/20: string (nullable = true)\n",
            " |-- 6/18/20: string (nullable = true)\n",
            " |-- 6/19/20: string (nullable = true)\n",
            " |-- 6/20/20: string (nullable = true)\n",
            " |-- 6/21/20: string (nullable = true)\n",
            " |-- 6/22/20: string (nullable = true)\n",
            " |-- 6/23/20: string (nullable = true)\n",
            " |-- 6/24/20: string (nullable = true)\n",
            " |-- 6/25/20: string (nullable = true)\n",
            " |-- 6/26/20: string (nullable = true)\n",
            " |-- 6/27/20: string (nullable = true)\n",
            " |-- 6/28/20: string (nullable = true)\n",
            " |-- 6/29/20: string (nullable = true)\n",
            " |-- 6/30/20: string (nullable = true)\n",
            " |-- 7/1/20: string (nullable = true)\n",
            " |-- 7/2/20: string (nullable = true)\n",
            " |-- 7/3/20: string (nullable = true)\n",
            " |-- 7/4/20: string (nullable = true)\n",
            " |-- 7/5/20: string (nullable = true)\n",
            " |-- 7/6/20: string (nullable = true)\n",
            " |-- 7/7/20: string (nullable = true)\n",
            " |-- 7/8/20: string (nullable = true)\n",
            " |-- 7/9/20: string (nullable = true)\n",
            " |-- 7/10/20: string (nullable = true)\n",
            " |-- 7/11/20: string (nullable = true)\n",
            " |-- 7/12/20: string (nullable = true)\n",
            " |-- 7/13/20: string (nullable = true)\n",
            " |-- 7/14/20: string (nullable = true)\n",
            " |-- 7/15/20: string (nullable = true)\n",
            " |-- 7/16/20: string (nullable = true)\n",
            " |-- 7/17/20: string (nullable = true)\n",
            " |-- 7/18/20: string (nullable = true)\n",
            " |-- 7/19/20: string (nullable = true)\n",
            " |-- 7/20/20: string (nullable = true)\n",
            " |-- 7/21/20: string (nullable = true)\n",
            " |-- 7/22/20: string (nullable = true)\n",
            " |-- 7/23/20: string (nullable = true)\n",
            " |-- 7/24/20: string (nullable = true)\n",
            " |-- 7/25/20: string (nullable = true)\n",
            " |-- 7/26/20: string (nullable = true)\n",
            " |-- 7/27/20: string (nullable = true)\n",
            " |-- 7/28/20: string (nullable = true)\n",
            " |-- 7/29/20: string (nullable = true)\n",
            " |-- 7/30/20: string (nullable = true)\n",
            " |-- 7/31/20: string (nullable = true)\n",
            " |-- 8/1/20: string (nullable = true)\n",
            " |-- 8/2/20: string (nullable = true)\n",
            " |-- 8/3/20: string (nullable = true)\n",
            " |-- 8/4/20: string (nullable = true)\n",
            " |-- 8/5/20: string (nullable = true)\n",
            " |-- 8/6/20: string (nullable = true)\n",
            " |-- 8/7/20: string (nullable = true)\n",
            " |-- 8/8/20: string (nullable = true)\n",
            " |-- 8/9/20: string (nullable = true)\n",
            " |-- 8/10/20: string (nullable = true)\n",
            " |-- 8/11/20: string (nullable = true)\n",
            " |-- 8/12/20: string (nullable = true)\n",
            " |-- 8/13/20: string (nullable = true)\n",
            " |-- 8/14/20: string (nullable = true)\n",
            " |-- 8/15/20: string (nullable = true)\n",
            " |-- 8/16/20: string (nullable = true)\n",
            " |-- 8/17/20: string (nullable = true)\n",
            " |-- 8/18/20: string (nullable = true)\n",
            " |-- 8/19/20: string (nullable = true)\n",
            " |-- 8/20/20: string (nullable = true)\n",
            " |-- 8/21/20: string (nullable = true)\n",
            " |-- 8/22/20: string (nullable = true)\n",
            " |-- 8/23/20: string (nullable = true)\n",
            " |-- 8/24/20: string (nullable = true)\n",
            " |-- 8/25/20: string (nullable = true)\n",
            " |-- 8/26/20: string (nullable = true)\n",
            " |-- 8/27/20: string (nullable = true)\n",
            " |-- 8/28/20: string (nullable = true)\n",
            " |-- 8/29/20: string (nullable = true)\n",
            " |-- 8/30/20: string (nullable = true)\n",
            " |-- 8/31/20: string (nullable = true)\n",
            " |-- 9/1/20: string (nullable = true)\n",
            " |-- 9/2/20: string (nullable = true)\n",
            " |-- 9/3/20: string (nullable = true)\n",
            " |-- 9/4/20: string (nullable = true)\n",
            " |-- 9/5/20: string (nullable = true)\n",
            " |-- 9/6/20: string (nullable = true)\n",
            " |-- 9/7/20: string (nullable = true)\n",
            " |-- 9/8/20: string (nullable = true)\n",
            " |-- 9/9/20: string (nullable = true)\n",
            " |-- 9/10/20: string (nullable = true)\n",
            " |-- 9/11/20: string (nullable = true)\n",
            " |-- 9/12/20: string (nullable = true)\n",
            " |-- 9/13/20: string (nullable = true)\n",
            " |-- 9/14/20: string (nullable = true)\n",
            " |-- 9/15/20: string (nullable = true)\n",
            " |-- 9/16/20: string (nullable = true)\n",
            " |-- 9/17/20: string (nullable = true)\n",
            " |-- 9/18/20: string (nullable = true)\n",
            " |-- 9/19/20: string (nullable = true)\n",
            " |-- 9/20/20: string (nullable = true)\n",
            " |-- 9/21/20: string (nullable = true)\n",
            " |-- 9/22/20: string (nullable = true)\n",
            " |-- 9/23/20: string (nullable = true)\n",
            " |-- 9/24/20: string (nullable = true)\n",
            " |-- 9/25/20: string (nullable = true)\n",
            " |-- 9/26/20: string (nullable = true)\n",
            " |-- 9/27/20: string (nullable = true)\n",
            " |-- 9/28/20: string (nullable = true)\n",
            " |-- 9/29/20: string (nullable = true)\n",
            " |-- 9/30/20: string (nullable = true)\n",
            " |-- 10/1/20: string (nullable = true)\n",
            " |-- 10/2/20: string (nullable = true)\n",
            " |-- 10/3/20: string (nullable = true)\n",
            " |-- 10/4/20: string (nullable = true)\n",
            " |-- 10/5/20: string (nullable = true)\n",
            " |-- 10/6/20: string (nullable = true)\n",
            " |-- 10/7/20: string (nullable = true)\n",
            " |-- 10/8/20: string (nullable = true)\n",
            " |-- 10/9/20: string (nullable = true)\n",
            " |-- 10/10/20: string (nullable = true)\n",
            " |-- 10/11/20: string (nullable = true)\n",
            " |-- 10/12/20: string (nullable = true)\n",
            " |-- 10/13/20: string (nullable = true)\n",
            " |-- 10/14/20: string (nullable = true)\n",
            " |-- 10/15/20: string (nullable = true)\n",
            " |-- 10/16/20: string (nullable = true)\n",
            " |-- 10/17/20: string (nullable = true)\n",
            " |-- 10/18/20: string (nullable = true)\n",
            " |-- 10/19/20: string (nullable = true)\n",
            " |-- 10/20/20: string (nullable = true)\n",
            " |-- 10/21/20: string (nullable = true)\n",
            " |-- 10/22/20: string (nullable = true)\n",
            " |-- 10/23/20: string (nullable = true)\n",
            " |-- 10/24/20: string (nullable = true)\n",
            " |-- 10/25/20: string (nullable = true)\n",
            " |-- 10/26/20: string (nullable = true)\n",
            " |-- 10/27/20: string (nullable = true)\n",
            " |-- 10/28/20: string (nullable = true)\n",
            " |-- 10/29/20: string (nullable = true)\n",
            " |-- 10/30/20: string (nullable = true)\n",
            " |-- 10/31/20: string (nullable = true)\n",
            " |-- 11/1/20: string (nullable = true)\n",
            " |-- 11/2/20: string (nullable = true)\n",
            " |-- 11/3/20: string (nullable = true)\n",
            " |-- 11/4/20: string (nullable = true)\n",
            " |-- 11/5/20: string (nullable = true)\n",
            " |-- 11/6/20: string (nullable = true)\n",
            " |-- 11/7/20: string (nullable = true)\n",
            " |-- 11/8/20: string (nullable = true)\n",
            " |-- 11/9/20: string (nullable = true)\n",
            " |-- 11/10/20: string (nullable = true)\n",
            " |-- 11/11/20: string (nullable = true)\n",
            " |-- 11/12/20: string (nullable = true)\n",
            " |-- 11/13/20: string (nullable = true)\n",
            " |-- 11/14/20: string (nullable = true)\n",
            " |-- 11/15/20: string (nullable = true)\n",
            " |-- 11/16/20: string (nullable = true)\n",
            " |-- 11/17/20: string (nullable = true)\n",
            " |-- 11/18/20: string (nullable = true)\n",
            " |-- 11/19/20: string (nullable = true)\n",
            " |-- 11/20/20: string (nullable = true)\n",
            " |-- 11/21/20: string (nullable = true)\n",
            " |-- 11/22/20: string (nullable = true)\n",
            " |-- 11/23/20: string (nullable = true)\n",
            " |-- 11/24/20: string (nullable = true)\n",
            " |-- 11/25/20: string (nullable = true)\n",
            " |-- 11/26/20: string (nullable = true)\n",
            " |-- 11/27/20: string (nullable = true)\n",
            " |-- 11/28/20: string (nullable = true)\n",
            " |-- 11/29/20: string (nullable = true)\n",
            " |-- 11/30/20: string (nullable = true)\n",
            " |-- 12/1/20: string (nullable = true)\n",
            " |-- 12/2/20: string (nullable = true)\n",
            " |-- 12/3/20: string (nullable = true)\n",
            " |-- 12/4/20: string (nullable = true)\n",
            " |-- 12/5/20: string (nullable = true)\n",
            " |-- 12/6/20: string (nullable = true)\n",
            " |-- 12/7/20: string (nullable = true)\n",
            " |-- 12/8/20: string (nullable = true)\n",
            " |-- 12/9/20: string (nullable = true)\n",
            " |-- 12/10/20: string (nullable = true)\n",
            " |-- 12/11/20: string (nullable = true)\n",
            " |-- 12/12/20: string (nullable = true)\n",
            " |-- 12/13/20: string (nullable = true)\n",
            " |-- 12/14/20: string (nullable = true)\n",
            " |-- 12/15/20: string (nullable = true)\n",
            " |-- 12/16/20: string (nullable = true)\n",
            " |-- 12/17/20: string (nullable = true)\n",
            " |-- 12/18/20: string (nullable = true)\n",
            " |-- 12/19/20: string (nullable = true)\n",
            " |-- 12/20/20: string (nullable = true)\n",
            " |-- 12/21/20: string (nullable = true)\n",
            " |-- 12/22/20: string (nullable = true)\n",
            " |-- 12/23/20: string (nullable = true)\n",
            " |-- 12/24/20: string (nullable = true)\n",
            " |-- 12/25/20: string (nullable = true)\n",
            " |-- 12/26/20: string (nullable = true)\n",
            " |-- 12/27/20: string (nullable = true)\n",
            " |-- 12/28/20: string (nullable = true)\n",
            " |-- 12/29/20: string (nullable = true)\n",
            " |-- 12/30/20: string (nullable = true)\n",
            " |-- 12/31/20: string (nullable = true)\n",
            " |-- 1/1/21: string (nullable = true)\n",
            " |-- 1/2/21: string (nullable = true)\n",
            " |-- 1/3/21: string (nullable = true)\n",
            " |-- 1/4/21: string (nullable = true)\n",
            " |-- 1/5/21: string (nullable = true)\n",
            " |-- 1/6/21: string (nullable = true)\n",
            " |-- 1/7/21: string (nullable = true)\n",
            " |-- 1/8/21: string (nullable = true)\n",
            " |-- 1/9/21: string (nullable = true)\n",
            " |-- 1/10/21: string (nullable = true)\n",
            " |-- 1/11/21: string (nullable = true)\n",
            " |-- 1/12/21: string (nullable = true)\n",
            " |-- 1/13/21: string (nullable = true)\n",
            " |-- 1/14/21: string (nullable = true)\n",
            " |-- 1/15/21: string (nullable = true)\n",
            " |-- 1/16/21: string (nullable = true)\n",
            " |-- 1/17/21: string (nullable = true)\n",
            " |-- 1/18/21: string (nullable = true)\n",
            " |-- 1/19/21: string (nullable = true)\n",
            " |-- 1/20/21: string (nullable = true)\n",
            " |-- 1/21/21: string (nullable = true)\n",
            " |-- 1/22/21: string (nullable = true)\n",
            " |-- 1/23/21: string (nullable = true)\n",
            " |-- 1/24/21: string (nullable = true)\n",
            " |-- 1/25/21: string (nullable = true)\n",
            " |-- 1/26/21: string (nullable = true)\n",
            " |-- 1/27/21: string (nullable = true)\n",
            " |-- 1/28/21: string (nullable = true)\n",
            " |-- 1/29/21: string (nullable = true)\n",
            " |-- 1/30/21: string (nullable = true)\n",
            " |-- 1/31/21: string (nullable = true)\n",
            " |-- 2/1/21: string (nullable = true)\n",
            " |-- 2/2/21: string (nullable = true)\n",
            " |-- 2/3/21: string (nullable = true)\n",
            " |-- 2/4/21: string (nullable = true)\n",
            " |-- 2/5/21: string (nullable = true)\n",
            " |-- 2/6/21: string (nullable = true)\n",
            " |-- 2/7/21: string (nullable = true)\n",
            " |-- 2/8/21: string (nullable = true)\n",
            " |-- 2/9/21: string (nullable = true)\n",
            " |-- 2/10/21: string (nullable = true)\n",
            " |-- 2/11/21: string (nullable = true)\n",
            " |-- 2/12/21: string (nullable = true)\n",
            " |-- 2/13/21: string (nullable = true)\n",
            " |-- 2/14/21: string (nullable = true)\n",
            " |-- 2/15/21: string (nullable = true)\n",
            " |-- 2/16/21: string (nullable = true)\n",
            " |-- 2/17/21: string (nullable = true)\n",
            " |-- 2/18/21: string (nullable = true)\n",
            " |-- 2/19/21: string (nullable = true)\n",
            " |-- 2/20/21: string (nullable = true)\n",
            " |-- 2/21/21: string (nullable = true)\n",
            " |-- 2/22/21: string (nullable = true)\n",
            " |-- 2/23/21: string (nullable = true)\n",
            " |-- 2/24/21: string (nullable = true)\n",
            " |-- 2/25/21: string (nullable = true)\n",
            " |-- 2/26/21: string (nullable = true)\n",
            " |-- 2/27/21: string (nullable = true)\n",
            " |-- 2/28/21: string (nullable = true)\n",
            " |-- 3/1/21: string (nullable = true)\n",
            " |-- 3/2/21: string (nullable = true)\n",
            " |-- 3/3/21: string (nullable = true)\n",
            " |-- 3/4/21: string (nullable = true)\n",
            " |-- 3/5/21: string (nullable = true)\n",
            " |-- 3/6/21: string (nullable = true)\n",
            " |-- 3/7/21: string (nullable = true)\n",
            " |-- 3/8/21: string (nullable = true)\n",
            " |-- 3/9/21: string (nullable = true)\n",
            " |-- 3/10/21: string (nullable = true)\n",
            " |-- 3/11/21: string (nullable = true)\n",
            " |-- 3/12/21: string (nullable = true)\n",
            " |-- 3/13/21: string (nullable = true)\n",
            " |-- 3/14/21: string (nullable = true)\n",
            " |-- 3/15/21: string (nullable = true)\n",
            " |-- 3/16/21: string (nullable = true)\n",
            " |-- 3/17/21: string (nullable = true)\n",
            " |-- 3/18/21: string (nullable = true)\n",
            " |-- 3/19/21: string (nullable = true)\n",
            " |-- 3/20/21: string (nullable = true)\n",
            " |-- 3/21/21: string (nullable = true)\n",
            " |-- 3/22/21: string (nullable = true)\n",
            " |-- 3/23/21: string (nullable = true)\n",
            " |-- 3/24/21: string (nullable = true)\n",
            " |-- 3/25/21: string (nullable = true)\n",
            " |-- 3/26/21: string (nullable = true)\n",
            " |-- 3/27/21: string (nullable = true)\n",
            " |-- 3/28/21: string (nullable = true)\n",
            " |-- 3/29/21: string (nullable = true)\n",
            " |-- 3/30/21: string (nullable = true)\n",
            " |-- 3/31/21: string (nullable = true)\n",
            " |-- 4/1/21: string (nullable = true)\n",
            " |-- 4/2/21: string (nullable = true)\n",
            " |-- 4/3/21: string (nullable = true)\n",
            " |-- 4/4/21: string (nullable = true)\n",
            " |-- 4/5/21: string (nullable = true)\n",
            " |-- 4/6/21: string (nullable = true)\n",
            " |-- 4/7/21: string (nullable = true)\n",
            " |-- 4/8/21: string (nullable = true)\n",
            " |-- 4/9/21: string (nullable = true)\n",
            " |-- 4/10/21: string (nullable = true)\n",
            " |-- 4/11/21: string (nullable = true)\n",
            " |-- 4/12/21: string (nullable = true)\n",
            " |-- 4/13/21: string (nullable = true)\n",
            " |-- 4/14/21: string (nullable = true)\n",
            " |-- 4/15/21: string (nullable = true)\n",
            " |-- 4/16/21: string (nullable = true)\n",
            " |-- 4/17/21: string (nullable = true)\n",
            " |-- 4/18/21: string (nullable = true)\n",
            " |-- 4/19/21: string (nullable = true)\n",
            " |-- 4/20/21: string (nullable = true)\n",
            " |-- 4/21/21: string (nullable = true)\n",
            " |-- 4/22/21: string (nullable = true)\n",
            " |-- 4/23/21: string (nullable = true)\n",
            " |-- 4/24/21: string (nullable = true)\n",
            " |-- 4/25/21: string (nullable = true)\n",
            " |-- 4/26/21: string (nullable = true)\n",
            " |-- 4/27/21: string (nullable = true)\n",
            " |-- 4/28/21: string (nullable = true)\n",
            " |-- 4/29/21: string (nullable = true)\n",
            " |-- 4/30/21: string (nullable = true)\n",
            " |-- 5/1/21: string (nullable = true)\n",
            " |-- 5/2/21: string (nullable = true)\n",
            " |-- 5/3/21: string (nullable = true)\n",
            " |-- 5/4/21: string (nullable = true)\n",
            " |-- 5/5/21: string (nullable = true)\n",
            " |-- 5/6/21: string (nullable = true)\n",
            " |-- 5/7/21: string (nullable = true)\n",
            " |-- 5/8/21: string (nullable = true)\n",
            " |-- 5/9/21: string (nullable = true)\n",
            " |-- 5/10/21: string (nullable = true)\n",
            " |-- 5/11/21: string (nullable = true)\n",
            " |-- 5/12/21: string (nullable = true)\n",
            " |-- 5/13/21: string (nullable = true)\n",
            " |-- 5/14/21: string (nullable = true)\n",
            " |-- 5/15/21: string (nullable = true)\n",
            " |-- 5/16/21: string (nullable = true)\n",
            " |-- 5/17/21: string (nullable = true)\n",
            " |-- 5/18/21: string (nullable = true)\n",
            "\n"
          ]
        }
      ]
    },
    {
      "cell_type": "markdown",
      "metadata": {
        "id": "WV45mAMfrmxA"
      },
      "source": [
        "### Your Task"
      ]
    },
    {
      "cell_type": "markdown",
      "metadata": {
        "id": "iLLbq024rr9l"
      },
      "source": [
        "We are aware of the stress we are all experiencing because of the fact that many of you have projects and exams due this week. As such, we decided to conclude our series of Colabs with a **lightweight task** -- given everything you have learned about Spark during the quarter, this Colab should take you just a few minutes to complete."
      ]
    },
    {
      "cell_type": "markdown",
      "metadata": {
        "id": "4wYiCEv_zhVf"
      },
      "source": [
        "Consider the entries for May 1, 2021, in the timeseries, and compute:\n",
        "\n",
        "\n",
        "*   number of confirmed COVID-19 cases across the globe\n",
        "*   number of deaths due to COVID-19 (across the globe)\n",
        "*   number of recovered patients across the globe\n",
        "\n"
      ]
    },
    {
      "cell_type": "code",
      "metadata": {
        "id": "w-Hoy-9Xzf8r",
        "outputId": "6cac2f8a-9beb-4948-8f9f-2fbcf182822d",
        "colab": {
          "base_uri": "https://localhost:8080/"
        }
      },
      "source": [
        "''' 6 lines of code in total expected. '''\n",
        "confirmed = confirmed.withColumn('5/18/21', col('5/18/21').cast('integer'))\n",
        "total_confirmed = confirmed.select(sum(confirmed['5/18/21'])).collect()[0][0]\n",
        "\n",
        "deaths = deaths.withColumn('5/18/21', col('5/18/21').cast('integer'))\n",
        "total_deaths = deaths.select(sum(deaths['5/18/21'])).collect()[0][0]\n",
        "\n",
        "recovered = recovered.withColumn('5/18/21', col('5/18/21').cast('integer'))\n",
        "total_recovered = recovered.select(sum(recovered['5/18/21'])).collect()[0][0]\n",
        "\n",
        "print(f'confirmed:{total_confirmed}, deaths:{total_deaths}, recovered:{total_recovered}')\n",
        "# YOUR CODE HERE"
      ],
      "execution_count": 27,
      "outputs": [
        {
          "output_type": "stream",
          "name": "stdout",
          "text": [
            "confirmed:164231810, deaths:3404338, recovered:100552044\n"
          ]
        }
      ]
    },
    {
      "cell_type": "markdown",
      "metadata": {
        "id": "yahkAHoS0HuU"
      },
      "source": [
        "Consider the data points for March 1, 2020, and March 1, 2021, and filter out the geographical locations where less than 50 cases have been confirmed.\n",
        "For the areas still taken into consideration after the filtering step, compute the ratio between number of deaths and number of confirmed cases.\n",
        "\n",
        "(Hint:\n",
        "1. You don't need to sum over the country(combine Province/State having the same Country/Region). In other words, the column Province/State should exist in the final dataframe for this question.\n",
        "2. For Q2.6, the computed death rate should be in the range [0.2, 0.3] and your reported country should be a country in the middle east.)"
      ]
    },
    {
      "cell_type": "code",
      "metadata": {
        "id": "8FwzsH4l1VCZ",
        "outputId": "ab82f3a7-1fb4-42d8-a087-7b54740ba141",
        "colab": {
          "base_uri": "https://localhost:8080/"
        }
      },
      "source": [
        "''' 12-20 lines of code in total expected but can differ based on your style. '''\n",
        "''' For sub-parts of the question (if any), creating different cells of code would be recommended.'''\n",
        "min_cases_threshold = 50\n",
        "# confirmed_2020 = confirmed.filter(col('3/1/20') >= min_cases_threshold)\n",
        "confirmed_2021 = confirmed.filter(col('3/1/21') >= min_cases_threshold)\n",
        "# confirmed_2020 = confirmed_2020.withColumnRenamed(\"3/1/21\", \"3/1/21_Cases\")\n",
        "confirmed_2021 = confirmed_2021.withColumnRenamed(\"3/1/21\", \"3/1/21_Cases\")\n",
        "\n",
        "deaths = deaths.withColumnRenamed(\"3/1/21\", \"3/1/21_Deaths\")\n",
        "# deaths = deaths.withColumnRenamed(\"3/1/20\", \"3/1/20_Deaths\")\n",
        "#\n",
        "# deaths_filtered_2020 = confirmed_2020.join(deaths, on=['Province/State', 'Country/Region'], how='inner')\n",
        "deaths_filtered_2021 = confirmed_2021.join(deaths, on=['Province/State', 'Country/Region'], how='inner')\n",
        "# 计算死亡率\n",
        "# death_rate_2020 = deaths_filtered_2020.withColumn('Death_Rate', col('3/1/20_Deaths') / col('3/1/20_Cases'))\n",
        "death_rate_2021 = deaths_filtered_2021.withColumn('Death_Rate', col('3/1/21_Deaths') / col('3/1/21_Cases'))\n",
        "# 选择需要的列\n",
        "# result_2020 = death_rate_2020.select(['Province/State', 'Country/Region', 'Death_Rate'])\n",
        "result_2021 = death_rate_2021.select(['Province/State', 'Country/Region', 'Death_Rate'])\n",
        "# 显示结果\n",
        "result_2021.show()\n",
        "\n",
        "# YOUR CODE HERE\n"
      ],
      "execution_count": 29,
      "outputs": [
        {
          "output_type": "stream",
          "name": "stdout",
          "text": [
            "+--------------------+--------------+--------------------+\n",
            "|      Province/State|Country/Region|          Death_Rate|\n",
            "+--------------------+--------------+--------------------+\n",
            "|Australian Capita...|     Australia|0.025423728813559324|\n",
            "|     New South Wales|     Australia|0.010418676442214933|\n",
            "|  Northern Territory|     Australia|                 0.0|\n",
            "|          Queensland|     Australia|0.004494382022471...|\n",
            "|     South Australia|     Australia|0.006482982171799027|\n",
            "|            Tasmania|     Australia| 0.05555555555555555|\n",
            "|            Victoria|     Australia| 0.04003710756310727|\n",
            "|   Western Australia|     Australia|0.009857612267250822|\n",
            "|             Alberta|        Canada|0.014111140177136664|\n",
            "|    British Columbia|        Canada| 0.01689557715192384|\n",
            "|            Manitoba|        Canada| 0.02809305825547125|\n",
            "|       New Brunswick|        Canada|0.018867924528301886|\n",
            "|Newfoundland and ...|        Canada|0.006066734074823054|\n",
            "|         Nova Scotia|        Canada| 0.03958587088915956|\n",
            "|             Nunavut|        Canada|0.002793296089385475|\n",
            "|             Ontario|        Canada| 0.02272964033648462|\n",
            "|Prince Edward Island|        Canada|                 0.0|\n",
            "|              Quebec|        Canada| 0.03606343613556994|\n",
            "|        Saskatchewan|        Canada|0.013367591403076282|\n",
            "|               Yukon|        Canada|0.013888888888888888|\n",
            "+--------------------+--------------+--------------------+\n",
            "only showing top 20 rows\n",
            "\n"
          ]
        }
      ]
    },
    {
      "cell_type": "markdown",
      "metadata": {
        "id": "MLBtZyFqPKkI"
      },
      "source": [
        "Consider the data points for March 1, 2021, and May 1, 2021, in the timeseries, and filter out the geographical locations where less than 50 deaths have been confirmed (as of March 1, 2021).\n",
        "For the areas still taken into consideration after the filtering step, compute **the percent increase in cumulative deaths**(not difference in death rate) between the two dates."
      ]
    },
    {
      "cell_type": "code",
      "metadata": {
        "id": "FUWisUyMPI9A",
        "outputId": "bb17565c-f54d-478c-8e52-9ba12147a48f",
        "colab": {
          "base_uri": "https://localhost:8080/"
        }
      },
      "source": [
        "''' 4-5 lines of code in total expected. '''\n",
        "death_filter = confirmed.filter(col('3/1/21') >= 50)\n",
        "death_increase_rate = death_filter.withColumn('Death_Rate_Increase', (col('5/1/21')-col('3/1/21')) / col('3/1/21'))\n",
        "# YOUR CODE HERE\n",
        "result_death = death_increase_rate.select(['Province/State', 'Country/Region', 'Death_Rate_Increase'])\n",
        "result_death.show()\n"
      ],
      "execution_count": 31,
      "outputs": [
        {
          "output_type": "stream",
          "name": "stdout",
          "text": [
            "+--------------------+-------------------+--------------------+\n",
            "|      Province/State|     Country/Region| Death_Rate_Increase|\n",
            "+--------------------+-------------------+--------------------+\n",
            "|                NULL|        Afghanistan| 0.07546695853444099|\n",
            "|                NULL|            Albania| 0.21545246500078755|\n",
            "|                NULL|            Algeria|  0.0799611496181184|\n",
            "|                NULL|            Andorra| 0.21517127376251263|\n",
            "|                NULL|             Angola| 0.28584444231322526|\n",
            "|                NULL|Antigua and Barbuda|  0.6020806241872562|\n",
            "|                NULL|          Argentina| 0.41753427874601745|\n",
            "|                NULL|            Armenia|  0.2576996330189994|\n",
            "|Australian Capita...|          Australia| 0.05084745762711865|\n",
            "|     New South Wales|          Australia| 0.05807447424271657|\n",
            "|  Northern Territory|          Australia|   0.580952380952381|\n",
            "|          Queensland|          Australia| 0.17153558052434456|\n",
            "|     South Australia|          Australia| 0.17504051863857376|\n",
            "|            Tasmania|          Australia|                 0.0|\n",
            "|            Victoria|          Australia|0.002001855378155...|\n",
            "|   Western Australia|          Australia| 0.10076670317634173|\n",
            "|                NULL|            Austria|  0.3463954570803018|\n",
            "|                NULL|         Azerbaijan|  0.3650356683229496|\n",
            "|                NULL|            Bahamas| 0.22702195093320812|\n",
            "|                NULL|            Bahrain|  0.4466713806191533|\n",
            "+--------------------+-------------------+--------------------+\n",
            "only showing top 20 rows\n",
            "\n"
          ]
        }
      ]
    },
    {
      "cell_type": "markdown",
      "metadata": {
        "id": "SIrXJyVNP2AI"
      },
      "source": [
        "Once you have working code for each cell above, **head over to Gradescope, read the questions carefully, and submit your solution for this Colab**!"
      ]
    }
  ]
}