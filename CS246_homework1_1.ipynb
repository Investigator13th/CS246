{
  "nbformat": 4,
  "nbformat_minor": 0,
  "metadata": {
    "colab": {
      "provenance": [],
      "mount_file_id": "18AfM42RknyYXQZbU_gbP33CT40J7hLeQ",
      "authorship_tag": "ABX9TyOH82ogGS/S/1qbSC7Gca4o",
      "include_colab_link": true
    },
    "kernelspec": {
      "name": "python3",
      "display_name": "Python 3"
    },
    "language_info": {
      "name": "python"
    }
  },
  "cells": [
    {
      "cell_type": "markdown",
      "metadata": {
        "id": "view-in-github",
        "colab_type": "text"
      },
      "source": [
        "<a href=\"https://colab.research.google.com/github/Investigator13th/CS246/blob/main/CS246_homework1_1.ipynb\" target=\"_parent\"><img src=\"https://colab.research.google.com/assets/colab-badge.svg\" alt=\"Open In Colab\"/></a>"
      ]
    },
    {
      "cell_type": "markdown",
      "source": [
        "首先搭载spark，装载云盘，导入包"
      ],
      "metadata": {
        "id": "7f5HXAE1q7eo"
      }
    },
    {
      "cell_type": "code",
      "execution_count": 240,
      "metadata": {
        "colab": {
          "base_uri": "https://localhost:8080/"
        },
        "id": "idZyp6_xpY0-",
        "outputId": "a4cad99c-84ec-48c4-ccd0-2c65a98e491b"
      },
      "outputs": [
        {
          "output_type": "stream",
          "name": "stdout",
          "text": [
            "Requirement already satisfied: pyspark in /usr/local/lib/python3.10/dist-packages (3.5.1)\n",
            "Requirement already satisfied: py4j==0.10.9.7 in /usr/local/lib/python3.10/dist-packages (from pyspark) (0.10.9.7)\n",
            "openjdk-8-jdk-headless is already the newest version (8u412-ga-1~22.04.1).\n",
            "0 upgraded, 0 newly installed, 0 to remove and 45 not upgraded.\n"
          ]
        }
      ],
      "source": [
        "!pip install pyspark\n",
        "!pip install -U -q PyDrive2\n",
        "#the output 'xxx is not a symbolic link' will not affect your implementation or execution\n",
        "#to fix 'xxx is not a symbolic link', you can comment out the lines starting from !mv xxxx\n",
        "#you may need to replace xxx.11 with the correct version if other errors come up after colab update\n",
        "#to get the correct version, use !ls /usr/local/lib to find out\n",
        "!mv /usr/local/lib/libtbbmalloc_proxy.so.2 /usr/local/lib/libtbbmalloc_proxy.so.2.backup\n",
        "!mv /usr/local/lib/libtbbmalloc.so.2 /usr/local/lib/libtbbmalloc.so.2.backup\n",
        "!mv /usr/local/lib/libtbbbind_2_5.so.3 /usr/local/lib/libtbbbind_2_5.so.3.backup\n",
        "!mv /usr/local/lib/libtbb.so.12 /usr/local/lib/libtbb.so.12.backup\n",
        "!mv /usr/local/lib/libtbbbind_2_0.so.3 /usr/local/lib/libtbbbind_2_0.so.3.backup\n",
        "!mv /usr/local/lib/libtbbbind.so.3 /usr/local/lib/libtbbbind.so.3.backup\n",
        "!ln -s /usr/local/lib/libtbbmalloc_proxy.so.2.11 /usr/local/lib/libtbbmalloc_proxy.so.2\n",
        "!ln -s /usr/local/lib/libtbbmalloc.so.2.11 /usr/local/lib/libtbbmalloc.so.2\n",
        "!ln -s /usr/local/lib/libtbbbind_2_5.so.3.11 /usr/local/lib/libtbbbind_2_5.so.3\n",
        "!ln -s /usr/local/lib/libtbb.so.12.11 /usr/local/lib/libtbb.so.12\n",
        "!ln -s /usr/local/lib/libtbbbind_2_0.so.3.11 /usr/local/lib/libtbbbind_2_0.so.3\n",
        "!ln -s /usr/local/lib/libtbbbind.so.3.11 /usr/local/lib/libtbbbind.so.3\n",
        "# !sudo ldconfig\n",
        "#If error related to the above execution occurs, you can try commenting out the above 12 lines under pip install PyDrive2 (not included)\n",
        "!apt install openjdk-8-jdk-headless -qq\n",
        "import os\n",
        "os.environ[\"JAVA_HOME\"] = \"/usr/lib/jvm/java-8-openjdk-amd64\"\n",
        "#the output 'xxx is not a symbolic link' will not affect your implementation or execution\n",
        "#to fix 'xxx is not a symbolic link', you can comment out the lines starting from !mv xxxx\n",
        "#you may need to replace xxx.11 with the correct version if other errors come up after colab update\n",
        "#to get the correct version, use !ls /usr/local/lib to find out\n"
      ]
    },
    {
      "cell_type": "code",
      "source": [
        "from pydrive2.auth import GoogleAuth\n",
        "from pydrive2.drive import GoogleDrive\n",
        "from google.colab import auth\n",
        "from oauth2client.client import GoogleCredentials\n",
        "\n",
        "# Authenticate and create the PyDrive client\n",
        "auth.authenticate_user()\n",
        "gauth = GoogleAuth()\n",
        "gauth.credentials = GoogleCredentials.get_application_default()\n",
        "drive = GoogleDrive(gauth)"
      ],
      "metadata": {
        "id": "faWAzPecpsTv"
      },
      "execution_count": 241,
      "outputs": []
    },
    {
      "cell_type": "code",
      "source": [
        "from pyspark.sql import *\n",
        "from pyspark.sql.functions import *\n",
        "from pyspark import SparkContext\n",
        "import pandas as pd\n",
        "\n",
        "# create the Spark Session\n",
        "spark = SparkSession.builder.getOrCreate()\n",
        "\n",
        "# create the Spark Context\n",
        "sc = spark.sparkContext"
      ],
      "metadata": {
        "id": "gXXdgr1qpsfx"
      },
      "execution_count": 242,
      "outputs": []
    },
    {
      "cell_type": "markdown",
      "source": [
        "Homework1的第一部分是实现一个社交推荐系统，输入是一个图，输出是预测每个用户最有可能认识的10个朋友。\n",
        "\n",
        "\n",
        "---\n",
        "\n",
        "\n",
        "思路：\n",
        "如何定义最有可能认识的人？\n",
        "\n",
        "\n",
        "1.   a与b不是朋友，即两个node之间没有edge\n",
        "2.   如果a与b有较多的共同朋友，那么这两个人可能相互认识\n",
        "3.   采用共同邻居相似度衡量a与b的相似性"
      ],
      "metadata": {
        "id": "FvY3qAiy_bCA"
      }
    },
    {
      "cell_type": "code",
      "source": [
        "# 读数据\n",
        "data = spark.read.text(\"/content/drive/MyDrive/hw1-bundle/q1/data/soc-LiveJournal1Adj.txt\")"
      ],
      "metadata": {
        "id": "yM5ZrYo4Dnb4"
      },
      "execution_count": 243,
      "outputs": []
    },
    {
      "cell_type": "code",
      "source": [
        "# 解析数据，处理过滤没有朋友的用户，没有朋友的用户在无向图中是孤立点，删除没有影响\n",
        "parsed_data = data.rdd.map(lambda row: row.value.split(\"\\t\")) \\\n",
        "                      .map(lambda x: (int(x[0]), list(map(int, x[1].split(\",\"))) if x[1] != '' else []))\\\n",
        "                      .filter(lambda x: x[1]!=[])"
      ],
      "metadata": {
        "id": "73FSzA3FdrgH"
      },
      "execution_count": 244,
      "outputs": []
    },
    {
      "cell_type": "code",
      "source": [
        "# 构建用户-朋友对\n",
        "user_friend_pairs = parsed_data.flatMap(lambda x: [(x[0], friend) for friend in x[1]])"
      ],
      "metadata": {
        "id": "rKiXaksJdxy3"
      },
      "execution_count": 245,
      "outputs": []
    },
    {
      "cell_type": "code",
      "source": [
        "existing_pairs = set(user_friend_pairs.collect())"
      ],
      "metadata": {
        "id": "fMWbSOulXUCD"
      },
      "execution_count": 246,
      "outputs": []
    },
    {
      "cell_type": "code",
      "source": [
        "# 使用join操作生成所有可能的用户对\n",
        "# 自连接是一个很重要的步骤，通过它可以为两个用户找到一个共同邻居\n",
        "# user0有朋友user1与user2，通过自连接将user1与user2连接起来，这样user1与user2的共同邻居数量就是1:((1,2),1)\n",
        "# 当user(x)也同时拥有朋友user1与user2时，同样会生成一个((1,2),1)\n",
        "# 用reducebykey函数聚合，就得到了user1与user2的共同邻居为2，分别是user0与user(x)\n",
        "joined_pairs = user_friend_pairs.join(user_friend_pairs)\n",
        "joined_pairs.take(5)"
      ],
      "metadata": {
        "colab": {
          "base_uri": "https://localhost:8080/"
        },
        "id": "Z1jeMmE3p5fP",
        "outputId": "210f5c62-7809-46d4-caef-cac5cacfc89a"
      },
      "execution_count": 247,
      "outputs": [
        {
          "output_type": "execute_result",
          "data": {
            "text/plain": [
              "[(0, (1, 1)), (0, (1, 2)), (0, (1, 3)), (0, (1, 4)), (0, (1, 5))]"
            ]
          },
          "metadata": {},
          "execution_count": 247
        }
      ]
    },
    {
      "cell_type": "code",
      "source": [
        "# 自连接存在问题  1.出现用户-朋友对 如(0,(1,5))其中用户1与用户5已经是朋友了，这个对应该剔除   2.出现自己的对如(1,1)\n",
        "# 过滤已经存在于 user_friend_pairs 中的对并过滤掉自己的对\n",
        "filtered_pairs = joined_pairs.filter(lambda x: (x[1][0], x[1][1]) not in existing_pairs).filter(lambda x: x[1][0] != x[1][1])\n",
        "filtered_pairs.take(5)"
      ],
      "metadata": {
        "colab": {
          "base_uri": "https://localhost:8080/"
        },
        "id": "_wIzn63mRKg7",
        "outputId": "ea5d94af-a2e9-4576-ca99-71c93ea8273d"
      },
      "execution_count": 248,
      "outputs": [
        {
          "output_type": "execute_result",
          "data": {
            "text/plain": [
              "[(0, (1, 2)), (0, (1, 3)), (0, (1, 4)), (0, (1, 6)), (0, (1, 7))]"
            ]
          },
          "metadata": {},
          "execution_count": 248
        }
      ]
    },
    {
      "cell_type": "code",
      "source": [
        "# 生成用户对及其共同朋友计数\n",
        "user_pairs_with_common_friend = filtered_pairs.map(lambda x: ((x[1][0], x[1][1]), 1))"
      ],
      "metadata": {
        "id": "aAJzn1VNp9Gh"
      },
      "execution_count": 249,
      "outputs": []
    },
    {
      "cell_type": "code",
      "source": [
        "# 聚合共同朋友计数\n",
        "friend_pairs = user_pairs_with_common_friend.reduceByKey(lambda a, b: a + b)"
      ],
      "metadata": {
        "id": "Z3U05Zn3p9QE"
      },
      "execution_count": 250,
      "outputs": []
    },
    {
      "cell_type": "code",
      "source": [
        "# 推荐朋友\n",
        "recommendations = friend_pairs.map(lambda x: (x[0][0], (x[0][1], x[1]))) \\\n",
        "                              .groupByKey() \\\n",
        "                              .mapValues(lambda x: sorted(list(x), key=lambda y: -y[1])[:10])"
      ],
      "metadata": {
        "id": "dy2ZM-n8d3TV"
      },
      "execution_count": 251,
      "outputs": []
    },
    {
      "cell_type": "code",
      "source": [
        "user_recommendations = recommendations.collectAsMap()"
      ],
      "metadata": {
        "id": "BKWWvXISYGZ_"
      },
      "execution_count": 252,
      "outputs": []
    },
    {
      "cell_type": "code",
      "source": [
        "from operator import itemgetter\n",
        "users_list = [924, 8941, 8942, 9019, 9020, 9021, 9022, 9990, 9992, 9993]\n",
        "output = itemgetter(*users_list)(user_recommendations)"
      ],
      "metadata": {
        "id": "7B75lUDtbw_s"
      },
      "execution_count": 253,
      "outputs": []
    },
    {
      "cell_type": "code",
      "source": [
        "output"
      ],
      "metadata": {
        "colab": {
          "base_uri": "https://localhost:8080/"
        },
        "id": "NUQuWK1zaqRS",
        "outputId": "8770cebd-29f6-4328-9903-006ca9659b68"
      },
      "execution_count": 254,
      "outputs": [
        {
          "output_type": "execute_result",
          "data": {
            "text/plain": [
              "([(43748, 1),\n",
              "  (11860, 1),\n",
              "  (15416, 1),\n",
              "  (6995, 1),\n",
              "  (439, 1),\n",
              "  (45881, 1),\n",
              "  (2409, 1)],\n",
              " [(8943, 2), (8944, 2), (8940, 1)],\n",
              " [(8939, 3), (8944, 1), (8940, 1), (8943, 1)],\n",
              " [(9022, 2), (317, 1), (9023, 1)],\n",
              " [(9021, 3), (9016, 2), (9022, 2), (9017, 2), (9023, 1), (317, 1)],\n",
              " [(9020, 3), (9017, 2), (9022, 2), (9016, 2), (9023, 1), (317, 1)],\n",
              " [(9020, 2), (9021, 2), (9019, 2), (9016, 1), (9017, 1), (9023, 1), (317, 1)],\n",
              " [(34642, 1),\n",
              "  (13478, 1),\n",
              "  (13134, 1),\n",
              "  (37941, 1),\n",
              "  (13877, 1),\n",
              "  (34299, 1),\n",
              "  (34485, 1)],\n",
              " [(9987, 4), (9989, 4), (35667, 3), (9991, 2)],\n",
              " [(9991, 5),\n",
              "  (13877, 1),\n",
              "  (34485, 1),\n",
              "  (37941, 1),\n",
              "  (34299, 1),\n",
              "  (13478, 1),\n",
              "  (34642, 1),\n",
              "  (13134, 1)])"
            ]
          },
          "metadata": {},
          "execution_count": 254
        }
      ]
    },
    {
      "cell_type": "markdown",
      "source": [
        "homework的难度和colab的难度真不是一个级别的，网上没有资料可以抄，就这个1-1我就做了将近两天  \n",
        "还记得cs246的老师说一个homework应当花费2小时，花费超过10小时表明不适合这门课...  \n",
        "令人感叹  "
      ],
      "metadata": {
        "id": "p8yNjRroctLW"
      }
    }
  ]
}