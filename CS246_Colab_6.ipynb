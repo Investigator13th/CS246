{
  "nbformat": 4,
  "nbformat_minor": 0,
  "metadata": {
    "colab": {
      "provenance": [],
      "machine_shape": "hm",
      "include_colab_link": true
    },
    "kernelspec": {
      "name": "python3",
      "display_name": "Python 3"
    }
  },
  "cells": [
    {
      "cell_type": "markdown",
      "metadata": {
        "id": "view-in-github",
        "colab_type": "text"
      },
      "source": [
        "<a href=\"https://colab.research.google.com/github/Investigator13th/CS246/blob/main/CS246_Colab_6.ipynb\" target=\"_parent\"><img src=\"https://colab.research.google.com/assets/colab-badge.svg\" alt=\"Open In Colab\"/></a>"
      ]
    },
    {
      "cell_type": "markdown",
      "metadata": {
        "id": "kPt5q27L5557"
      },
      "source": [
        "# CS246 - Colab 6\n",
        "## node2vec"
      ]
    },
    {
      "cell_type": "markdown",
      "metadata": {
        "id": "p0-YhEpP_Ds-"
      },
      "source": [
        "### Setup"
      ]
    },
    {
      "cell_type": "markdown",
      "metadata": {
        "id": "82kmj9fIVlq0"
      },
      "source": [
        "First of all, we install the [graph2vec library](https://github.com/VHRanger/graph2vec) which offers a fast implementation of the node2vec method.\n",
        "\n",
        "If you are curious to learn how to implement fast random walks on graphs, I recommend you to [read the blog post](https://www.singlelunch.com/2019/08/01/700x-faster-node2vec-models-fastest-random-walks-on-a-graph/) which explains some of the design choices behind this library."
      ]
    },
    {
      "cell_type": "code",
      "source": [
        "!python -m pip install 'csrgraph @ git+https://github.com/VHRanger/CSRGraph@f052c1cf128ab21d21a4710337dc7c1cd5658df7'\n",
        "!python -m pip install 'nodevectors @ git+https://github.com/aman0456/nodevectors@67e9af0506236be9aae6d460e96d4dec6329bcd2'"
      ],
      "metadata": {
        "id": "5XivxOcOKLvQ",
        "outputId": "ca298db3-1b2e-4145-d37c-39d295ddbf36",
        "colab": {
          "base_uri": "https://localhost:8080/"
        }
      },
      "execution_count": 1,
      "outputs": [
        {
          "output_type": "stream",
          "name": "stdout",
          "text": [
            "Collecting csrgraph@ git+https://github.com/VHRanger/CSRGraph@f052c1cf128ab21d21a4710337dc7c1cd5658df7\n",
            "  Cloning https://github.com/VHRanger/CSRGraph (to revision f052c1cf128ab21d21a4710337dc7c1cd5658df7) to /tmp/pip-install-ehd5j_hl/csrgraph_006cd62a8a934de5804244f7b9722928\n",
            "  Running command git clone --filter=blob:none --quiet https://github.com/VHRanger/CSRGraph /tmp/pip-install-ehd5j_hl/csrgraph_006cd62a8a934de5804244f7b9722928\n",
            "  Running command git rev-parse -q --verify 'sha^f052c1cf128ab21d21a4710337dc7c1cd5658df7'\n",
            "  Running command git fetch -q https://github.com/VHRanger/CSRGraph f052c1cf128ab21d21a4710337dc7c1cd5658df7\n",
            "  Running command git checkout -q f052c1cf128ab21d21a4710337dc7c1cd5658df7\n",
            "  Resolved https://github.com/VHRanger/CSRGraph to commit f052c1cf128ab21d21a4710337dc7c1cd5658df7\n",
            "  Preparing metadata (setup.py) ... \u001b[?25l\u001b[?25hdone\n",
            "Requirement already satisfied: networkx in /usr/local/lib/python3.10/dist-packages (from csrgraph@ git+https://github.com/VHRanger/CSRGraph@f052c1cf128ab21d21a4710337dc7c1cd5658df7) (3.3)\n",
            "Requirement already satisfied: numba in /usr/local/lib/python3.10/dist-packages (from csrgraph@ git+https://github.com/VHRanger/CSRGraph@f052c1cf128ab21d21a4710337dc7c1cd5658df7) (0.58.1)\n",
            "Requirement already satisfied: numpy in /usr/local/lib/python3.10/dist-packages (from csrgraph@ git+https://github.com/VHRanger/CSRGraph@f052c1cf128ab21d21a4710337dc7c1cd5658df7) (1.25.2)\n",
            "Requirement already satisfied: pandas in /usr/local/lib/python3.10/dist-packages (from csrgraph@ git+https://github.com/VHRanger/CSRGraph@f052c1cf128ab21d21a4710337dc7c1cd5658df7) (2.0.3)\n",
            "Requirement already satisfied: scipy in /usr/local/lib/python3.10/dist-packages (from csrgraph@ git+https://github.com/VHRanger/CSRGraph@f052c1cf128ab21d21a4710337dc7c1cd5658df7) (1.11.4)\n",
            "Requirement already satisfied: scikit-learn in /usr/local/lib/python3.10/dist-packages (from csrgraph@ git+https://github.com/VHRanger/CSRGraph@f052c1cf128ab21d21a4710337dc7c1cd5658df7) (1.2.2)\n",
            "Requirement already satisfied: tqdm in /usr/local/lib/python3.10/dist-packages (from csrgraph@ git+https://github.com/VHRanger/CSRGraph@f052c1cf128ab21d21a4710337dc7c1cd5658df7) (4.66.4)\n",
            "Requirement already satisfied: llvmlite<0.42,>=0.41.0dev0 in /usr/local/lib/python3.10/dist-packages (from numba->csrgraph@ git+https://github.com/VHRanger/CSRGraph@f052c1cf128ab21d21a4710337dc7c1cd5658df7) (0.41.1)\n",
            "Requirement already satisfied: python-dateutil>=2.8.2 in /usr/local/lib/python3.10/dist-packages (from pandas->csrgraph@ git+https://github.com/VHRanger/CSRGraph@f052c1cf128ab21d21a4710337dc7c1cd5658df7) (2.8.2)\n",
            "Requirement already satisfied: pytz>=2020.1 in /usr/local/lib/python3.10/dist-packages (from pandas->csrgraph@ git+https://github.com/VHRanger/CSRGraph@f052c1cf128ab21d21a4710337dc7c1cd5658df7) (2023.4)\n",
            "Requirement already satisfied: tzdata>=2022.1 in /usr/local/lib/python3.10/dist-packages (from pandas->csrgraph@ git+https://github.com/VHRanger/CSRGraph@f052c1cf128ab21d21a4710337dc7c1cd5658df7) (2024.1)\n",
            "Requirement already satisfied: joblib>=1.1.1 in /usr/local/lib/python3.10/dist-packages (from scikit-learn->csrgraph@ git+https://github.com/VHRanger/CSRGraph@f052c1cf128ab21d21a4710337dc7c1cd5658df7) (1.4.2)\n",
            "Requirement already satisfied: threadpoolctl>=2.0.0 in /usr/local/lib/python3.10/dist-packages (from scikit-learn->csrgraph@ git+https://github.com/VHRanger/CSRGraph@f052c1cf128ab21d21a4710337dc7c1cd5658df7) (3.5.0)\n",
            "Requirement already satisfied: six>=1.5 in /usr/local/lib/python3.10/dist-packages (from python-dateutil>=2.8.2->pandas->csrgraph@ git+https://github.com/VHRanger/CSRGraph@f052c1cf128ab21d21a4710337dc7c1cd5658df7) (1.16.0)\n",
            "Building wheels for collected packages: csrgraph\n",
            "  Building wheel for csrgraph (setup.py) ... \u001b[?25l\u001b[?25hdone\n",
            "  Created wheel for csrgraph: filename=csrgraph-0.1.29-py3-none-any.whl size=19406 sha256=1c7dceeaf5c4050cc3ec025b80196a9b988da28fe3f07ce242e7ec7d5d5a311f\n",
            "  Stored in directory: /root/.cache/pip/wheels/9b/b2/53/46e2e64492e0bdfaab6d5eb9d1c147dcaa8f883bca0613fba7\n",
            "Successfully built csrgraph\n",
            "Installing collected packages: csrgraph\n",
            "Successfully installed csrgraph-0.1.29\n",
            "Collecting nodevectors@ git+https://github.com/aman0456/nodevectors@67e9af0506236be9aae6d460e96d4dec6329bcd2\n",
            "  Cloning https://github.com/aman0456/nodevectors (to revision 67e9af0506236be9aae6d460e96d4dec6329bcd2) to /tmp/pip-install-qymx68ck/nodevectors_c1e0617d39eb48c694a5ee967a2f3342\n",
            "  Running command git clone --filter=blob:none --quiet https://github.com/aman0456/nodevectors /tmp/pip-install-qymx68ck/nodevectors_c1e0617d39eb48c694a5ee967a2f3342\n",
            "  Running command git rev-parse -q --verify 'sha^67e9af0506236be9aae6d460e96d4dec6329bcd2'\n",
            "  Running command git fetch -q https://github.com/aman0456/nodevectors 67e9af0506236be9aae6d460e96d4dec6329bcd2\n",
            "  Running command git checkout -q 67e9af0506236be9aae6d460e96d4dec6329bcd2\n",
            "  Resolved https://github.com/aman0456/nodevectors to commit 67e9af0506236be9aae6d460e96d4dec6329bcd2\n",
            "  Preparing metadata (setup.py) ... \u001b[?25l\u001b[?25hdone\n",
            "Requirement already satisfied: csrgraph in /usr/local/lib/python3.10/dist-packages (from nodevectors@ git+https://github.com/aman0456/nodevectors@67e9af0506236be9aae6d460e96d4dec6329bcd2) (0.1.29)\n",
            "Requirement already satisfied: gensim in /usr/local/lib/python3.10/dist-packages (from nodevectors@ git+https://github.com/aman0456/nodevectors@67e9af0506236be9aae6d460e96d4dec6329bcd2) (4.3.3)\n",
            "Requirement already satisfied: networkx in /usr/local/lib/python3.10/dist-packages (from nodevectors@ git+https://github.com/aman0456/nodevectors@67e9af0506236be9aae6d460e96d4dec6329bcd2) (3.3)\n",
            "Requirement already satisfied: numba in /usr/local/lib/python3.10/dist-packages (from nodevectors@ git+https://github.com/aman0456/nodevectors@67e9af0506236be9aae6d460e96d4dec6329bcd2) (0.58.1)\n",
            "Requirement already satisfied: numpy in /usr/local/lib/python3.10/dist-packages (from nodevectors@ git+https://github.com/aman0456/nodevectors@67e9af0506236be9aae6d460e96d4dec6329bcd2) (1.25.2)\n",
            "Requirement already satisfied: pandas>=1.0 in /usr/local/lib/python3.10/dist-packages (from nodevectors@ git+https://github.com/aman0456/nodevectors@67e9af0506236be9aae6d460e96d4dec6329bcd2) (2.0.3)\n",
            "Requirement already satisfied: scipy in /usr/local/lib/python3.10/dist-packages (from nodevectors@ git+https://github.com/aman0456/nodevectors@67e9af0506236be9aae6d460e96d4dec6329bcd2) (1.11.4)\n",
            "Requirement already satisfied: scikit-learn in /usr/local/lib/python3.10/dist-packages (from nodevectors@ git+https://github.com/aman0456/nodevectors@67e9af0506236be9aae6d460e96d4dec6329bcd2) (1.2.2)\n",
            "Requirement already satisfied: python-dateutil>=2.8.2 in /usr/local/lib/python3.10/dist-packages (from pandas>=1.0->nodevectors@ git+https://github.com/aman0456/nodevectors@67e9af0506236be9aae6d460e96d4dec6329bcd2) (2.8.2)\n",
            "Requirement already satisfied: pytz>=2020.1 in /usr/local/lib/python3.10/dist-packages (from pandas>=1.0->nodevectors@ git+https://github.com/aman0456/nodevectors@67e9af0506236be9aae6d460e96d4dec6329bcd2) (2023.4)\n",
            "Requirement already satisfied: tzdata>=2022.1 in /usr/local/lib/python3.10/dist-packages (from pandas>=1.0->nodevectors@ git+https://github.com/aman0456/nodevectors@67e9af0506236be9aae6d460e96d4dec6329bcd2) (2024.1)\n",
            "Requirement already satisfied: tqdm in /usr/local/lib/python3.10/dist-packages (from csrgraph->nodevectors@ git+https://github.com/aman0456/nodevectors@67e9af0506236be9aae6d460e96d4dec6329bcd2) (4.66.4)\n",
            "Requirement already satisfied: smart-open>=1.8.1 in /usr/local/lib/python3.10/dist-packages (from gensim->nodevectors@ git+https://github.com/aman0456/nodevectors@67e9af0506236be9aae6d460e96d4dec6329bcd2) (7.0.4)\n",
            "Requirement already satisfied: llvmlite<0.42,>=0.41.0dev0 in /usr/local/lib/python3.10/dist-packages (from numba->nodevectors@ git+https://github.com/aman0456/nodevectors@67e9af0506236be9aae6d460e96d4dec6329bcd2) (0.41.1)\n",
            "Requirement already satisfied: joblib>=1.1.1 in /usr/local/lib/python3.10/dist-packages (from scikit-learn->nodevectors@ git+https://github.com/aman0456/nodevectors@67e9af0506236be9aae6d460e96d4dec6329bcd2) (1.4.2)\n",
            "Requirement already satisfied: threadpoolctl>=2.0.0 in /usr/local/lib/python3.10/dist-packages (from scikit-learn->nodevectors@ git+https://github.com/aman0456/nodevectors@67e9af0506236be9aae6d460e96d4dec6329bcd2) (3.5.0)\n",
            "Requirement already satisfied: six>=1.5 in /usr/local/lib/python3.10/dist-packages (from python-dateutil>=2.8.2->pandas>=1.0->nodevectors@ git+https://github.com/aman0456/nodevectors@67e9af0506236be9aae6d460e96d4dec6329bcd2) (1.16.0)\n",
            "Requirement already satisfied: wrapt in /usr/local/lib/python3.10/dist-packages (from smart-open>=1.8.1->gensim->nodevectors@ git+https://github.com/aman0456/nodevectors@67e9af0506236be9aae6d460e96d4dec6329bcd2) (1.14.1)\n",
            "Building wheels for collected packages: nodevectors\n",
            "  Building wheel for nodevectors (setup.py) ... \u001b[?25l\u001b[?25hdone\n",
            "  Created wheel for nodevectors: filename=nodevectors-0.1.23-py3-none-any.whl size=18807 sha256=7ee549186e32a095a1366e9f0c868437506eb31ff2c11b69eef4b6e6b0203f38\n",
            "  Stored in directory: /root/.cache/pip/wheels/d5/3e/71/c6c1b9a3faa90a8672db8c915358b27f2d69269f8b361a4a97\n",
            "Successfully built nodevectors\n",
            "Installing collected packages: nodevectors\n",
            "Successfully installed nodevectors-0.1.23\n"
          ]
        }
      ]
    },
    {
      "cell_type": "markdown",
      "metadata": {
        "id": "pUCNE4-5Wc8b"
      },
      "source": [
        "# We now import the library, and create a small wrapper class which will expose only the few hyperparameters we will need to tune in this Colab"
      ]
    },
    {
      "cell_type": "code",
      "metadata": {
        "id": "QiIPtudrGlTf"
      },
      "source": [
        "from nodevectors import Node2Vec\n",
        "import networkx as nx\n",
        "\n",
        "class Node2VecNew(Node2Vec):\n",
        "  \"\"\"\n",
        "  Parameters\n",
        "  ----------\n",
        "  p : float\n",
        "      p parameter of node2vec\n",
        "  q : float\n",
        "      q parameter of node2vec\n",
        "  d : int\n",
        "      dimensionality of the embedding vectors\n",
        "  \"\"\"\n",
        "  def __init__(self, p=1, q=1, d=32):\n",
        "    super().__init__(\n",
        "                 n_components=d,\n",
        "                     walklen=10,\n",
        "                     epochs=50,\n",
        "                     return_weight=1.0/p,\n",
        "                     neighbor_weight=1.0/q,\n",
        "                     threads=0,\n",
        "                     w2vparams={'window': 4,\n",
        "                                'negative': 5,\n",
        "                                'iter': 10,\n",
        "                                'ns_exponent': 0.5,\n",
        "                                'batch_words': 128})"
      ],
      "execution_count": 2,
      "outputs": []
    },
    {
      "cell_type": "markdown",
      "metadata": {
        "id": "qwtlO4_m_LbQ"
      },
      "source": [
        "Lastly, let's import some of the common libraries needed for our task."
      ]
    },
    {
      "cell_type": "code",
      "metadata": {
        "id": "twk-K-jilWK7"
      },
      "source": [
        "import pandas as pd\n",
        "import numpy as np\n",
        "import matplotlib.pyplot as plt\n",
        "from tqdm import tqdm\n",
        "%matplotlib inline"
      ],
      "execution_count": 43,
      "outputs": []
    },
    {
      "cell_type": "markdown",
      "metadata": {
        "id": "kAYRX2PMm0L6"
      },
      "source": [
        "### Example\n",
        "\n",
        "In the example below, we will try to reproduce the plot in slide 8 of [CS246 - Lecture 12](https://web.stanford.edu/class/cs246/slides/13-graphemb.pdf)."
      ]
    },
    {
      "cell_type": "code",
      "metadata": {
        "id": "2PsVt5f2CsmP",
        "outputId": "bb913388-9468-486d-e3ee-423e86c78911",
        "colab": {
          "base_uri": "https://localhost:8080/"
        }
      },
      "source": [
        "# Load the Zachary's Karate Club as a NetworkX Graph object\n",
        "KCG = nx.karate_club_graph()\n",
        "\n",
        "# Fit embedding model to the Karate Club graph\n",
        "n2v = Node2VecNew(0.5, 1, 2)\n",
        "n2v.fit(KCG)"
      ],
      "execution_count": 24,
      "outputs": [
        {
          "output_type": "stream",
          "name": "stdout",
          "text": [
            "Making walks... Done, T=0.05\n",
            "Mapping Walk Names... Done, T=0.03\n",
            "Training W2V... WARNING: gensim word2vec version is unoptimizedTry version 3.6 if on windows, versions 3.7 and 3.8 have had issues\n",
            "Done, T=0.39\n"
          ]
        }
      ]
    },
    {
      "cell_type": "code",
      "metadata": {
        "id": "ZEjzhwEiC1HD"
      },
      "source": [
        "embeddings = []\n",
        "for node in KCG.nodes:\n",
        "  embedding = list(n2v.predict(node))\n",
        "  club = KCG.nodes[node]['club']\n",
        "  embeddings.append(embedding + [club])\n",
        "\n",
        "# Construct a pandas dataframe with the 2D embeddings from node2vec,\n",
        "# plus the club name that each node belongs to after the split\n",
        "df = pd.DataFrame(embeddings, columns=['x', 'y', 'club'])"
      ],
      "execution_count": 25,
      "outputs": []
    },
    {
      "cell_type": "code",
      "metadata": {
        "id": "fJBTilMGLInb",
        "outputId": "9f2ccbb3-a26a-4402-bc3f-3156233b8f6d",
        "colab": {
          "base_uri": "https://localhost:8080/",
          "height": 466
        }
      },
      "source": [
        "# Nodes who stayed with the Mr. Hi will be plotted in red, while nodes\n",
        "# who moved with the Officer will be plotted in blue\n",
        "colors = ['red' if x == 'Mr. Hi' else 'blue' for x in df.club]\n",
        "df.plot.scatter(x='x', y='y', s=50, c=colors)"
      ],
      "execution_count": 26,
      "outputs": [
        {
          "output_type": "execute_result",
          "data": {
            "text/plain": [
              "<Axes: xlabel='x', ylabel='y'>"
            ]
          },
          "metadata": {},
          "execution_count": 26
        },
        {
          "output_type": "display_data",
          "data": {
            "text/plain": [
              "<Figure size 640x480 with 1 Axes>"
            ],
            "image/png": "[encoded data removed]"
          },
          "metadata": {}
        }
      ]
    },
    {
      "cell_type": "markdown",
      "metadata": {
        "id": "e6vmpmj6Ylph"
      },
      "source": [
        "If our example trained correctly, you should notice a clear separation between the blue and red nodes.  Solely from the graph structure, node2vec could predict how the Zachary's Karate Club split!\n",
        "\n",
        "Tune the hyperparameters ```p``` and ```q```, and notice how they affect the resulting embeddings."
      ]
    },
    {
      "cell_type": "markdown",
      "metadata": {
        "id": "vbmr23B2rJKR"
      },
      "source": [
        "### Your Task"
      ]
    },
    {
      "cell_type": "markdown",
      "metadata": {
        "id": "x15OQeyys1xd"
      },
      "source": [
        "Now we will study the behavior of node2vec on [barbell graphs](https://en.wikipedia.org/wiki/Barbell_graph).\n",
        "\n",
        "Below you can see a toy example of a barbell graph generated with NetworkX."
      ]
    },
    {
      "cell_type": "code",
      "metadata": {
        "id": "xUYxs4E8aHgG"
      },
      "source": [
        "toy_barbell = nx.barbell_graph(500, 0)"
      ],
      "execution_count": 29,
      "outputs": []
    },
    {
      "cell_type": "markdown",
      "metadata": {
        "id": "G7K3-57FyD8D"
      },
      "source": [
        "Generate a larger barbell graph, where each complete graph has exactly 1000 nodes.\n",
        "\n",
        "Then, learn node2vec embeddings on this graph, setting ```p = 1, q = 1``` and ```d = 10```."
      ]
    },
    {
      "cell_type": "code",
      "metadata": {
        "id": "k_rmp-SvaIOt",
        "outputId": "872fbb11-911a-4bdf-b356-09ea18e87bd6",
        "colab": {
          "base_uri": "https://localhost:8080/"
        }
      },
      "source": [
        "''' 5-7 lines of code in total expected but can differ based on your style.\n",
        "For sub-parts of the question (if any), creating different cells of code would be recommended.'''\n",
        "# YOUR CODE HERE\n",
        "n2v = Node2VecNew(1, 1, 10)\n",
        "n2v.fit(toy_barbell)"
      ],
      "execution_count": 32,
      "outputs": [
        {
          "output_type": "stream",
          "name": "stdout",
          "text": [
            "Making walks... Done, T=0.27\n",
            "Mapping Walk Names... Done, T=0.50\n",
            "Training W2V... WARNING: gensim word2vec version is unoptimizedTry version 3.6 if on windows, versions 3.7 and 3.8 have had issues\n",
            "Done, T=14.54\n"
          ]
        }
      ]
    },
    {
      "cell_type": "code",
      "source": [
        "embeddings = {}\n",
        "for node in toy_barbell.nodes:\n",
        "  embeddings[node] = n2v.predict(node)"
      ],
      "metadata": {
        "id": "F-eTUXmwcP8H"
      },
      "execution_count": 35,
      "outputs": []
    },
    {
      "cell_type": "code",
      "source": [
        "embeddings[5]"
      ],
      "metadata": {
        "id": "nYM2nVfFdJtQ",
        "outputId": "4faeca29-b975-4da2-cf40-16cf8a8d9b44",
        "colab": {
          "base_uri": "https://localhost:8080/"
        }
      },
      "execution_count": 42,
      "outputs": [
        {
          "output_type": "execute_result",
          "data": {
            "text/plain": [
              "array([ 0.7076174 ,  0.2514424 , -0.60530657, -1.4037501 ,  1.0295442 ,\n",
              "       -0.90067476, -0.30754063,  0.97801924,  0.6752103 , -0.6840726 ],\n",
              "      dtype=float32)"
            ]
          },
          "metadata": {},
          "execution_count": 42
        }
      ]
    },
    {
      "cell_type": "markdown",
      "metadata": {
        "id": "fyxZBVwhzLQe"
      },
      "source": [
        "Write a function that takes as input a node id ```n``` in the graph (e.g., ```5```) and returns a list containining the cosine similarity between the node2vec vector of the input node ```n``` and all the nodes in the given barbell graph (including the similarity with ```n``` itself)."
      ]
    },
    {
      "cell_type": "code",
      "metadata": {
        "id": "aq7advtkjXSp"
      },
      "source": [
        "''' 24-30 lines of code in total expected but can differ based on your style.\n",
        "For sub-parts of the question (if any), creating different cells of code would be recommended.'''\n",
        "\n",
        "# YOUR CODE HERE\n",
        "def cosine_similarity(vec1, vec2):\n",
        "\n",
        "    dot_product = np.dot(vec1, vec2)\n",
        "\n",
        "    norm_vec1 = np.linalg.norm(vec1)\n",
        "    norm_vec2 = np.linalg.norm(vec2)\n",
        "\n",
        "    if norm_vec1 == 0 or norm_vec2 == 0:\n",
        "        return 0\n",
        "\n",
        "    return dot_product / (norm_vec1 * norm_vec2)\n",
        "\n",
        "\n",
        "def n2vector_cos_sim(embeddings, id):\n",
        "  cos_sim = []\n",
        "  embedding = embeddings[id]\n",
        "\n",
        "  for _,v in embeddings.items():\n",
        "    cos_sim.append(cosine_similarity(embedding, v))\n",
        "\n",
        "  return [embedding, cos_sim]"
      ],
      "execution_count": 44,
      "outputs": []
    },
    {
      "cell_type": "code",
      "source": [
        "res = n2vector_cos_sim(embeddings, 5)"
      ],
      "metadata": {
        "id": "0tELC3QFe_Qi"
      },
      "execution_count": 45,
      "outputs": []
    },
    {
      "cell_type": "code",
      "source": [
        "res[1][5]"
      ],
      "metadata": {
        "id": "9fMCX3Q0fHdq",
        "outputId": "cbdc9a43-78f8-42f1-f382-742b7075032c",
        "colab": {
          "base_uri": "https://localhost:8080/"
        }
      },
      "execution_count": 46,
      "outputs": [
        {
          "output_type": "execute_result",
          "data": {
            "text/plain": [
              "1.0"
            ]
          },
          "metadata": {},
          "execution_count": 46
        }
      ]
    },
    {
      "cell_type": "markdown",
      "metadata": {
        "id": "zw1oNDDD2dZO"
      },
      "source": [
        "Generate another barbell graph, this time adding a path of length 51 between\n",
        "\n",
        "---\n",
        "\n",
        "the two complete graphs. To find out how, refer to the NetworkX documentation: [https://networkx.github.io/documentation/stable/reference/\n",
        "\n",
        "---\n",
        "\n",
        "generated/networkx.generators.classic.barbell_graph.html#networkx.generators.classic.barbell_graph](https://networkx.github.io/documentation/stable/reference/generated/networkx.generators.classic.barbell_graph.html#networkx.generators.classic.barbell_graph)\n",
        "\n",
        "Learn the node2vec embeddings for the nodes of this new graph, using the same hyperparameters as before."
      ]
    },
    {
      "cell_type": "code",
      "metadata": {
        "id": "Wrv5Eyba3NM0"
      },
      "source": [
        "''' 10-12 lines of code in total expected but can differ based on your style.\n",
        "For sub-parts of the question (if any), creating different cells of code would be recommended.'''\n",
        "# YOUR CODE HERE\n",
        "toy_barbell_new = nx.barbell_graph(500, 51)"
      ],
      "execution_count": 53,
      "outputs": []
    },
    {
      "cell_type": "markdown",
      "metadata": {
        "id": "SIrXJyVNP2AI"
      },
      "source": [
        "Once you have working code for each cell above, **head over to Gradescope, read carefully the questions, and submit your solution for this Colab**!\n"
      ]
    },
    {
      "cell_type": "code",
      "source": [
        "n2v = Node2VecNew(1, 1, 10)\n",
        "n2v.fit(toy_barbell)"
      ],
      "metadata": {
        "id": "uBEUQ976itJg",
        "outputId": "33420c28-a52f-4229-b726-3d7edc22a407",
        "colab": {
          "base_uri": "https://localhost:8080/"
        }
      },
      "execution_count": 54,
      "outputs": [
        {
          "output_type": "stream",
          "name": "stdout",
          "text": [
            "Making walks... Done, T=0.28\n",
            "Mapping Walk Names... Done, T=0.35\n",
            "Training W2V... WARNING: gensim word2vec version is unoptimizedTry version 3.6 if on windows, versions 3.7 and 3.8 have had issues\n",
            "Done, T=11.76\n"
          ]
        }
      ]
    },
    {
      "cell_type": "code",
      "source": [
        "embeddings = {}\n",
        "for node in toy_barbell.nodes:\n",
        "  embeddings[node] = n2v.predict(node)"
      ],
      "metadata": {
        "id": "8OPfaYM-isZC"
      },
      "execution_count": 55,
      "outputs": []
    }
  ]
}